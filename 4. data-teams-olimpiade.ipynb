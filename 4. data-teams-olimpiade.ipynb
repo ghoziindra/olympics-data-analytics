{
 "cells": [
  {
   "cell_type": "code",
   "execution_count": 3,
   "metadata": {},
   "outputs": [],
   "source": [
    "import pandas as pd\n",
    "import numpy as np\n",
    "import matplotlib.pyplot as plt\n",
    "import plotly.express as px"
   ]
  },
  {
   "cell_type": "code",
   "execution_count": 4,
   "metadata": {},
   "outputs": [
    {
     "data": {
      "text/html": [
       "<div>\n",
       "<style scoped>\n",
       "    .dataframe tbody tr th:only-of-type {\n",
       "        vertical-align: middle;\n",
       "    }\n",
       "\n",
       "    .dataframe tbody tr th {\n",
       "        vertical-align: top;\n",
       "    }\n",
       "\n",
       "    .dataframe thead th {\n",
       "        text-align: right;\n",
       "    }\n",
       "</style>\n",
       "<table border=\"1\" class=\"dataframe\">\n",
       "  <thead>\n",
       "    <tr style=\"text-align: right;\">\n",
       "      <th></th>\n",
       "      <th>Name</th>\n",
       "      <th>Discipline</th>\n",
       "      <th>NOC</th>\n",
       "      <th>Event</th>\n",
       "    </tr>\n",
       "  </thead>\n",
       "  <tbody>\n",
       "    <tr>\n",
       "      <th>0</th>\n",
       "      <td>Belgium</td>\n",
       "      <td>3x3 Basketball</td>\n",
       "      <td>Belgium</td>\n",
       "      <td>Men</td>\n",
       "    </tr>\n",
       "    <tr>\n",
       "      <th>1</th>\n",
       "      <td>China</td>\n",
       "      <td>3x3 Basketball</td>\n",
       "      <td>People's Republic of China</td>\n",
       "      <td>Men</td>\n",
       "    </tr>\n",
       "    <tr>\n",
       "      <th>2</th>\n",
       "      <td>China</td>\n",
       "      <td>3x3 Basketball</td>\n",
       "      <td>People's Republic of China</td>\n",
       "      <td>Women</td>\n",
       "    </tr>\n",
       "    <tr>\n",
       "      <th>3</th>\n",
       "      <td>France</td>\n",
       "      <td>3x3 Basketball</td>\n",
       "      <td>France</td>\n",
       "      <td>Women</td>\n",
       "    </tr>\n",
       "    <tr>\n",
       "      <th>4</th>\n",
       "      <td>Italy</td>\n",
       "      <td>3x3 Basketball</td>\n",
       "      <td>Italy</td>\n",
       "      <td>Women</td>\n",
       "    </tr>\n",
       "    <tr>\n",
       "      <th>...</th>\n",
       "      <td>...</td>\n",
       "      <td>...</td>\n",
       "      <td>...</td>\n",
       "      <td>...</td>\n",
       "    </tr>\n",
       "    <tr>\n",
       "      <th>738</th>\n",
       "      <td>South Africa</td>\n",
       "      <td>Water Polo</td>\n",
       "      <td>South Africa</td>\n",
       "      <td>Women</td>\n",
       "    </tr>\n",
       "    <tr>\n",
       "      <th>739</th>\n",
       "      <td>Spain</td>\n",
       "      <td>Water Polo</td>\n",
       "      <td>Spain</td>\n",
       "      <td>Men</td>\n",
       "    </tr>\n",
       "    <tr>\n",
       "      <th>740</th>\n",
       "      <td>Spain</td>\n",
       "      <td>Water Polo</td>\n",
       "      <td>Spain</td>\n",
       "      <td>Women</td>\n",
       "    </tr>\n",
       "    <tr>\n",
       "      <th>741</th>\n",
       "      <td>United States</td>\n",
       "      <td>Water Polo</td>\n",
       "      <td>United States of America</td>\n",
       "      <td>Men</td>\n",
       "    </tr>\n",
       "    <tr>\n",
       "      <th>742</th>\n",
       "      <td>United States</td>\n",
       "      <td>Water Polo</td>\n",
       "      <td>United States of America</td>\n",
       "      <td>Women</td>\n",
       "    </tr>\n",
       "  </tbody>\n",
       "</table>\n",
       "<p>743 rows × 4 columns</p>\n",
       "</div>"
      ],
      "text/plain": [
       "              Name      Discipline                         NOC  Event\n",
       "0          Belgium  3x3 Basketball                     Belgium    Men\n",
       "1            China  3x3 Basketball  People's Republic of China    Men\n",
       "2            China  3x3 Basketball  People's Republic of China  Women\n",
       "3           France  3x3 Basketball                      France  Women\n",
       "4            Italy  3x3 Basketball                       Italy  Women\n",
       "..             ...             ...                         ...    ...\n",
       "738   South Africa      Water Polo                South Africa  Women\n",
       "739          Spain      Water Polo                       Spain    Men\n",
       "740          Spain      Water Polo                       Spain  Women\n",
       "741  United States      Water Polo    United States of America    Men\n",
       "742  United States      Water Polo    United States of America  Women\n",
       "\n",
       "[743 rows x 4 columns]"
      ]
     },
     "execution_count": 4,
     "metadata": {},
     "output_type": "execute_result"
    }
   ],
   "source": [
    "df_teams = pd.read_excel('teams.xlsx')\n",
    "df_teams\n",
    "# anyi"
   ]
  },
  {
   "cell_type": "code",
   "execution_count": 5,
   "metadata": {},
   "outputs": [
    {
     "data": {
      "text/html": [
       "<div>\n",
       "<style scoped>\n",
       "    .dataframe tbody tr th:only-of-type {\n",
       "        vertical-align: middle;\n",
       "    }\n",
       "\n",
       "    .dataframe tbody tr th {\n",
       "        vertical-align: top;\n",
       "    }\n",
       "\n",
       "    .dataframe thead th {\n",
       "        text-align: right;\n",
       "    }\n",
       "</style>\n",
       "<table border=\"1\" class=\"dataframe\">\n",
       "  <thead>\n",
       "    <tr style=\"text-align: right;\">\n",
       "      <th></th>\n",
       "      <th>Name</th>\n",
       "      <th>Discipline</th>\n",
       "      <th>NOC</th>\n",
       "      <th>Event</th>\n",
       "    </tr>\n",
       "  </thead>\n",
       "  <tbody>\n",
       "    <tr>\n",
       "      <th>0</th>\n",
       "      <td>Belgium</td>\n",
       "      <td>3x3 Basketball</td>\n",
       "      <td>Belgium</td>\n",
       "      <td>Men</td>\n",
       "    </tr>\n",
       "    <tr>\n",
       "      <th>1</th>\n",
       "      <td>China</td>\n",
       "      <td>3x3 Basketball</td>\n",
       "      <td>People's Republic of China</td>\n",
       "      <td>Men</td>\n",
       "    </tr>\n",
       "    <tr>\n",
       "      <th>2</th>\n",
       "      <td>China</td>\n",
       "      <td>3x3 Basketball</td>\n",
       "      <td>People's Republic of China</td>\n",
       "      <td>Women</td>\n",
       "    </tr>\n",
       "    <tr>\n",
       "      <th>3</th>\n",
       "      <td>France</td>\n",
       "      <td>3x3 Basketball</td>\n",
       "      <td>France</td>\n",
       "      <td>Women</td>\n",
       "    </tr>\n",
       "    <tr>\n",
       "      <th>4</th>\n",
       "      <td>Italy</td>\n",
       "      <td>3x3 Basketball</td>\n",
       "      <td>Italy</td>\n",
       "      <td>Women</td>\n",
       "    </tr>\n",
       "  </tbody>\n",
       "</table>\n",
       "</div>"
      ],
      "text/plain": [
       "      Name      Discipline                         NOC  Event\n",
       "0  Belgium  3x3 Basketball                     Belgium    Men\n",
       "1    China  3x3 Basketball  People's Republic of China    Men\n",
       "2    China  3x3 Basketball  People's Republic of China  Women\n",
       "3   France  3x3 Basketball                      France  Women\n",
       "4    Italy  3x3 Basketball                       Italy  Women"
      ]
     },
     "execution_count": 5,
     "metadata": {},
     "output_type": "execute_result"
    }
   ],
   "source": [
    "df_teams.head()"
   ]
  },
  {
   "cell_type": "code",
   "execution_count": 20,
   "metadata": {},
   "outputs": [
    {
     "data": {
      "text/plain": [
       "Name     Discipline           NOC      Event                 \n",
       "Belgium  3x3 Basketball       Belgium  Men                       1\n",
       "         Artistic Gymnastics  Belgium  Women's Team              1\n",
       "         Athletics            Belgium  4 x 400m Relay Mixed      1\n",
       "                                       Men's 4 x 400m Relay      1\n",
       "                                       Women's 4 x 400m Relay    1\n",
       "         Basketball           Belgium  Women                     1\n",
       "         Cycling Track        Belgium  Men's Madison             1\n",
       "                                       Women's Madison           1\n",
       "         Hockey               Belgium  Men                       1\n",
       "         Triathlon            Belgium  Mixed Relay               1\n",
       "dtype: int64"
      ]
     },
     "execution_count": 20,
     "metadata": {},
     "output_type": "execute_result"
    }
   ],
   "source": [
    "df_teams.loc[(df_teams.Name == 'Belgium')].value_counts()"
   ]
  },
  {
   "cell_type": "code",
   "execution_count": 25,
   "metadata": {},
   "outputs": [
    {
     "data": {
      "text/html": [
       "<div>\n",
       "<style scoped>\n",
       "    .dataframe tbody tr th:only-of-type {\n",
       "        vertical-align: middle;\n",
       "    }\n",
       "\n",
       "    .dataframe tbody tr th {\n",
       "        vertical-align: top;\n",
       "    }\n",
       "\n",
       "    .dataframe thead th {\n",
       "        text-align: right;\n",
       "    }\n",
       "</style>\n",
       "<table border=\"1\" class=\"dataframe\">\n",
       "  <thead>\n",
       "    <tr style=\"text-align: right;\">\n",
       "      <th></th>\n",
       "      <th>Name</th>\n",
       "      <th>Discipline</th>\n",
       "      <th>NOC</th>\n",
       "      <th>Event</th>\n",
       "    </tr>\n",
       "  </thead>\n",
       "  <tbody>\n",
       "    <tr>\n",
       "      <th>47</th>\n",
       "      <td>Malaysia</td>\n",
       "      <td>Archery</td>\n",
       "      <td>Malaysia</td>\n",
       "      <td>Mixed Team</td>\n",
       "    </tr>\n",
       "  </tbody>\n",
       "</table>\n",
       "</div>"
      ],
      "text/plain": [
       "        Name Discipline       NOC       Event\n",
       "47  Malaysia    Archery  Malaysia  Mixed Team"
      ]
     },
     "execution_count": 25,
     "metadata": {},
     "output_type": "execute_result"
    }
   ],
   "source": [
    "df_teams.loc[(df_teams.NOC == 'Malaysia')]"
   ]
  },
  {
   "cell_type": "code",
   "execution_count": 13,
   "metadata": {},
   "outputs": [
    {
     "data": {
      "application/vnd.plotly.v1+json": {
       "config": {
        "plotlyServerURL": "https://plot.ly"
       },
       "data": [
        {
         "alignmentgroup": "True",
         "hoverlabel": {
          "namelength": 0
         },
         "hovertemplate": "Discipline=%{x}<br>NOC=%{y}",
         "legendgroup": "",
         "marker": {
          "color": "#636efa"
         },
         "name": "",
         "offsetgroup": "",
         "orientation": "v",
         "showlegend": false,
         "textposition": "auto",
         "type": "bar",
         "x": [
          "3x3 Basketball",
          "3x3 Basketball",
          "3x3 Basketball",
          "3x3 Basketball",
          "3x3 Basketball",
          "3x3 Basketball",
          "3x3 Basketball",
          "3x3 Basketball",
          "3x3 Basketball",
          "3x3 Basketball",
          "3x3 Basketball",
          "3x3 Basketball",
          "3x3 Basketball",
          "3x3 Basketball",
          "3x3 Basketball",
          "3x3 Basketball",
          "Archery",
          "Archery",
          "Archery",
          "Archery",
          "Archery",
          "Archery",
          "Archery",
          "Archery",
          "Archery",
          "Archery",
          "Archery",
          "Archery",
          "Archery",
          "Archery",
          "Archery",
          "Archery",
          "Archery",
          "Archery",
          "Archery",
          "Archery",
          "Archery",
          "Archery",
          "Archery",
          "Archery",
          "Archery",
          "Archery",
          "Archery",
          "Archery",
          "Archery",
          "Archery",
          "Archery",
          "Archery",
          "Archery",
          "Archery",
          "Archery",
          "Archery",
          "Archery",
          "Archery",
          "Archery",
          "Archery",
          "Archery",
          "Archery",
          "Archery",
          "Archery",
          "Archery",
          "Archery",
          "Archery",
          "Archery",
          "Archery",
          "Archery",
          "Archery",
          "Archery",
          "Archery",
          "Artistic Gymnastics",
          "Artistic Gymnastics",
          "Artistic Gymnastics",
          "Artistic Gymnastics",
          "Artistic Gymnastics",
          "Artistic Gymnastics",
          "Artistic Gymnastics",
          "Artistic Gymnastics",
          "Artistic Gymnastics",
          "Artistic Gymnastics",
          "Artistic Gymnastics",
          "Artistic Gymnastics",
          "Artistic Gymnastics",
          "Artistic Gymnastics",
          "Artistic Gymnastics",
          "Artistic Gymnastics",
          "Artistic Gymnastics",
          "Artistic Gymnastics",
          "Artistic Gymnastics",
          "Artistic Gymnastics",
          "Artistic Gymnastics",
          "Artistic Gymnastics",
          "Artistic Gymnastics",
          "Artistic Gymnastics",
          "Artistic Swimming",
          "Artistic Swimming",
          "Artistic Swimming",
          "Artistic Swimming",
          "Artistic Swimming",
          "Artistic Swimming",
          "Artistic Swimming",
          "Artistic Swimming",
          "Artistic Swimming",
          "Artistic Swimming",
          "Artistic Swimming",
          "Artistic Swimming",
          "Artistic Swimming",
          "Artistic Swimming",
          "Artistic Swimming",
          "Artistic Swimming",
          "Artistic Swimming",
          "Artistic Swimming",
          "Artistic Swimming",
          "Artistic Swimming",
          "Artistic Swimming",
          "Artistic Swimming",
          "Artistic Swimming",
          "Artistic Swimming",
          "Artistic Swimming",
          "Artistic Swimming",
          "Artistic Swimming",
          "Artistic Swimming",
          "Artistic Swimming",
          "Artistic Swimming",
          "Artistic Swimming",
          "Artistic Swimming",
          "Athletics",
          "Athletics",
          "Athletics",
          "Athletics",
          "Athletics",
          "Athletics",
          "Athletics",
          "Athletics",
          "Athletics",
          "Athletics",
          "Athletics",
          "Athletics",
          "Athletics",
          "Athletics",
          "Athletics",
          "Athletics",
          "Athletics",
          "Athletics",
          "Athletics",
          "Athletics",
          "Athletics",
          "Athletics",
          "Athletics",
          "Athletics",
          "Athletics",
          "Athletics",
          "Athletics",
          "Athletics",
          "Athletics",
          "Athletics",
          "Athletics",
          "Athletics",
          "Athletics",
          "Athletics",
          "Athletics",
          "Athletics",
          "Athletics",
          "Athletics",
          "Athletics",
          "Athletics",
          "Athletics",
          "Athletics",
          "Athletics",
          "Athletics",
          "Athletics",
          "Athletics",
          "Athletics",
          "Athletics",
          "Athletics",
          "Athletics",
          "Athletics",
          "Athletics",
          "Athletics",
          "Athletics",
          "Athletics",
          "Athletics",
          "Athletics",
          "Athletics",
          "Athletics",
          "Athletics",
          "Athletics",
          "Athletics",
          "Athletics",
          "Athletics",
          "Athletics",
          "Athletics",
          "Athletics",
          "Athletics",
          "Athletics",
          "Athletics",
          "Athletics",
          "Athletics",
          "Athletics",
          "Athletics",
          "Athletics",
          "Athletics",
          "Athletics",
          "Athletics",
          "Athletics",
          "Baseball/Softball",
          "Baseball/Softball",
          "Baseball/Softball",
          "Baseball/Softball",
          "Baseball/Softball",
          "Baseball/Softball",
          "Baseball/Softball",
          "Baseball/Softball",
          "Baseball/Softball",
          "Baseball/Softball",
          "Baseball/Softball",
          "Baseball/Softball",
          "Basketball",
          "Basketball",
          "Basketball",
          "Basketball",
          "Basketball",
          "Basketball",
          "Basketball",
          "Basketball",
          "Basketball",
          "Basketball",
          "Basketball",
          "Basketball",
          "Basketball",
          "Basketball",
          "Basketball",
          "Basketball",
          "Basketball",
          "Basketball",
          "Basketball",
          "Basketball",
          "Basketball",
          "Basketball",
          "Basketball",
          "Basketball",
          "Beach Volleyball",
          "Beach Volleyball",
          "Beach Volleyball",
          "Beach Volleyball",
          "Beach Volleyball",
          "Beach Volleyball",
          "Beach Volleyball",
          "Beach Volleyball",
          "Beach Volleyball",
          "Beach Volleyball",
          "Beach Volleyball",
          "Beach Volleyball",
          "Beach Volleyball",
          "Beach Volleyball",
          "Beach Volleyball",
          "Beach Volleyball",
          "Beach Volleyball",
          "Beach Volleyball",
          "Beach Volleyball",
          "Beach Volleyball",
          "Beach Volleyball",
          "Beach Volleyball",
          "Beach Volleyball",
          "Beach Volleyball",
          "Beach Volleyball",
          "Beach Volleyball",
          "Beach Volleyball",
          "Beach Volleyball",
          "Beach Volleyball",
          "Beach Volleyball",
          "Beach Volleyball",
          "Beach Volleyball",
          "Beach Volleyball",
          "Beach Volleyball",
          "Beach Volleyball",
          "Beach Volleyball",
          "Beach Volleyball",
          "Beach Volleyball",
          "Beach Volleyball",
          "Beach Volleyball",
          "Beach Volleyball",
          "Beach Volleyball",
          "Beach Volleyball",
          "Beach Volleyball",
          "Beach Volleyball",
          "Beach Volleyball",
          "Beach Volleyball",
          "Beach Volleyball",
          "Cycling Track",
          "Cycling Track",
          "Cycling Track",
          "Cycling Track",
          "Cycling Track",
          "Cycling Track",
          "Cycling Track",
          "Cycling Track",
          "Cycling Track",
          "Cycling Track",
          "Cycling Track",
          "Cycling Track",
          "Cycling Track",
          "Cycling Track",
          "Cycling Track",
          "Cycling Track",
          "Cycling Track",
          "Cycling Track",
          "Cycling Track",
          "Cycling Track",
          "Cycling Track",
          "Cycling Track",
          "Cycling Track",
          "Cycling Track",
          "Cycling Track",
          "Cycling Track",
          "Cycling Track",
          "Cycling Track",
          "Cycling Track",
          "Cycling Track",
          "Cycling Track",
          "Cycling Track",
          "Cycling Track",
          "Cycling Track",
          "Cycling Track",
          "Cycling Track",
          "Cycling Track",
          "Cycling Track",
          "Cycling Track",
          "Cycling Track",
          "Cycling Track",
          "Cycling Track",
          "Cycling Track",
          "Cycling Track",
          "Cycling Track",
          "Cycling Track",
          "Cycling Track",
          "Cycling Track",
          "Cycling Track",
          "Cycling Track",
          "Cycling Track",
          "Cycling Track",
          "Cycling Track",
          "Cycling Track",
          "Cycling Track",
          "Cycling Track",
          "Cycling Track",
          "Cycling Track",
          "Cycling Track",
          "Cycling Track",
          "Cycling Track",
          "Cycling Track",
          "Cycling Track",
          "Cycling Track",
          "Fencing",
          "Fencing",
          "Fencing",
          "Fencing",
          "Fencing",
          "Fencing",
          "Fencing",
          "Fencing",
          "Fencing",
          "Fencing",
          "Fencing",
          "Fencing",
          "Fencing",
          "Fencing",
          "Fencing",
          "Fencing",
          "Fencing",
          "Fencing",
          "Fencing",
          "Fencing",
          "Fencing",
          "Fencing",
          "Fencing",
          "Fencing",
          "Fencing",
          "Fencing",
          "Fencing",
          "Fencing",
          "Fencing",
          "Fencing",
          "Fencing",
          "Fencing",
          "Fencing",
          "Fencing",
          "Fencing",
          "Fencing",
          "Fencing",
          "Fencing",
          "Fencing",
          "Fencing",
          "Fencing",
          "Fencing",
          "Fencing",
          "Fencing",
          "Fencing",
          "Fencing",
          "Fencing",
          "Fencing",
          "Fencing",
          "Fencing",
          "Fencing",
          "Fencing",
          "Football",
          "Football",
          "Football",
          "Football",
          "Football",
          "Football",
          "Football",
          "Football",
          "Football",
          "Football",
          "Football",
          "Football",
          "Football",
          "Football",
          "Football",
          "Football",
          "Football",
          "Football",
          "Football",
          "Football",
          "Football",
          "Football",
          "Football",
          "Football",
          "Football",
          "Football",
          "Football",
          "Football",
          "Handball",
          "Handball",
          "Handball",
          "Handball",
          "Handball",
          "Handball",
          "Handball",
          "Handball",
          "Handball",
          "Handball",
          "Handball",
          "Handball",
          "Handball",
          "Handball",
          "Handball",
          "Handball",
          "Handball",
          "Handball",
          "Handball",
          "Handball",
          "Handball",
          "Handball",
          "Handball",
          "Handball",
          "Hockey",
          "Hockey",
          "Hockey",
          "Hockey",
          "Hockey",
          "Hockey",
          "Hockey",
          "Hockey",
          "Hockey",
          "Hockey",
          "Hockey",
          "Hockey",
          "Hockey",
          "Hockey",
          "Hockey",
          "Hockey",
          "Hockey",
          "Hockey",
          "Hockey",
          "Hockey",
          "Hockey",
          "Hockey",
          "Hockey",
          "Hockey",
          "Rhythmic Gymnastics",
          "Rhythmic Gymnastics",
          "Rhythmic Gymnastics",
          "Rhythmic Gymnastics",
          "Rhythmic Gymnastics",
          "Rhythmic Gymnastics",
          "Rhythmic Gymnastics",
          "Rhythmic Gymnastics",
          "Rhythmic Gymnastics",
          "Rhythmic Gymnastics",
          "Rhythmic Gymnastics",
          "Rhythmic Gymnastics",
          "Rhythmic Gymnastics",
          "Rhythmic Gymnastics",
          "Rugby Sevens",
          "Rugby Sevens",
          "Rugby Sevens",
          "Rugby Sevens",
          "Rugby Sevens",
          "Rugby Sevens",
          "Rugby Sevens",
          "Rugby Sevens",
          "Rugby Sevens",
          "Rugby Sevens",
          "Rugby Sevens",
          "Rugby Sevens",
          "Rugby Sevens",
          "Rugby Sevens",
          "Rugby Sevens",
          "Rugby Sevens",
          "Rugby Sevens",
          "Rugby Sevens",
          "Rugby Sevens",
          "Rugby Sevens",
          "Rugby Sevens",
          "Rugby Sevens",
          "Rugby Sevens",
          "Rugby Sevens",
          "Swimming",
          "Swimming",
          "Swimming",
          "Swimming",
          "Swimming",
          "Swimming",
          "Swimming",
          "Swimming",
          "Swimming",
          "Swimming",
          "Swimming",
          "Swimming",
          "Swimming",
          "Swimming",
          "Swimming",
          "Swimming",
          "Swimming",
          "Swimming",
          "Swimming",
          "Swimming",
          "Swimming",
          "Swimming",
          "Swimming",
          "Swimming",
          "Swimming",
          "Swimming",
          "Swimming",
          "Swimming",
          "Swimming",
          "Swimming",
          "Swimming",
          "Swimming",
          "Swimming",
          "Swimming",
          "Swimming",
          "Swimming",
          "Swimming",
          "Swimming",
          "Swimming",
          "Swimming",
          "Swimming",
          "Swimming",
          "Swimming",
          "Swimming",
          "Swimming",
          "Swimming",
          "Swimming",
          "Swimming",
          "Swimming",
          "Swimming",
          "Swimming",
          "Swimming",
          "Swimming",
          "Swimming",
          "Swimming",
          "Swimming",
          "Swimming",
          "Swimming",
          "Swimming",
          "Swimming",
          "Swimming",
          "Swimming",
          "Swimming",
          "Swimming",
          "Swimming",
          "Swimming",
          "Swimming",
          "Swimming",
          "Swimming",
          "Swimming",
          "Swimming",
          "Swimming",
          "Swimming",
          "Swimming",
          "Swimming",
          "Swimming",
          "Swimming",
          "Swimming",
          "Swimming",
          "Swimming",
          "Swimming",
          "Swimming",
          "Swimming",
          "Swimming",
          "Swimming",
          "Swimming",
          "Swimming",
          "Swimming",
          "Swimming",
          "Swimming",
          "Swimming",
          "Swimming",
          "Swimming",
          "Swimming",
          "Swimming",
          "Swimming",
          "Swimming",
          "Swimming",
          "Swimming",
          "Swimming",
          "Swimming",
          "Swimming",
          "Swimming",
          "Swimming",
          "Swimming",
          "Swimming",
          "Swimming",
          "Swimming",
          "Swimming",
          "Swimming",
          "Swimming",
          "Swimming",
          "Swimming",
          "Table Tennis",
          "Table Tennis",
          "Table Tennis",
          "Table Tennis",
          "Table Tennis",
          "Table Tennis",
          "Table Tennis",
          "Table Tennis",
          "Table Tennis",
          "Table Tennis",
          "Table Tennis",
          "Table Tennis",
          "Table Tennis",
          "Table Tennis",
          "Table Tennis",
          "Table Tennis",
          "Table Tennis",
          "Table Tennis",
          "Table Tennis",
          "Table Tennis",
          "Table Tennis",
          "Table Tennis",
          "Table Tennis",
          "Table Tennis",
          "Table Tennis",
          "Table Tennis",
          "Table Tennis",
          "Table Tennis",
          "Table Tennis",
          "Table Tennis",
          "Table Tennis",
          "Table Tennis",
          "Table Tennis",
          "Table Tennis",
          "Table Tennis",
          "Table Tennis",
          "Table Tennis",
          "Table Tennis",
          "Table Tennis",
          "Table Tennis",
          "Table Tennis",
          "Table Tennis",
          "Table Tennis",
          "Table Tennis",
          "Table Tennis",
          "Table Tennis",
          "Table Tennis",
          "Table Tennis",
          "Triathlon",
          "Triathlon",
          "Triathlon",
          "Triathlon",
          "Triathlon",
          "Triathlon",
          "Triathlon",
          "Triathlon",
          "Triathlon",
          "Triathlon",
          "Triathlon",
          "Triathlon",
          "Triathlon",
          "Triathlon",
          "Triathlon",
          "Triathlon",
          "Triathlon",
          "Triathlon",
          "Volleyball",
          "Volleyball",
          "Volleyball",
          "Volleyball",
          "Volleyball",
          "Volleyball",
          "Volleyball",
          "Volleyball",
          "Volleyball",
          "Volleyball",
          "Volleyball",
          "Volleyball",
          "Volleyball",
          "Volleyball",
          "Volleyball",
          "Volleyball",
          "Volleyball",
          "Volleyball",
          "Volleyball",
          "Volleyball",
          "Volleyball",
          "Volleyball",
          "Volleyball",
          "Volleyball",
          "Water Polo",
          "Water Polo",
          "Water Polo",
          "Water Polo",
          "Water Polo",
          "Water Polo",
          "Water Polo",
          "Water Polo",
          "Water Polo",
          "Water Polo",
          "Water Polo",
          "Water Polo",
          "Water Polo",
          "Water Polo",
          "Water Polo",
          "Water Polo",
          "Water Polo",
          "Water Polo",
          "Water Polo",
          "Water Polo",
          "Water Polo",
          "Water Polo"
         ],
         "xaxis": "x",
         "y": [
          "Belgium",
          "People's Republic of China",
          "People's Republic of China",
          "France",
          "Italy",
          "Japan",
          "Japan",
          "Latvia",
          "Mongolia",
          "Netherlands",
          "Poland",
          "ROC",
          "ROC",
          "Romania",
          "Serbia",
          "United States of America",
          "Australia",
          "Australia",
          "Bangladesh",
          "Belarus",
          "Brazil",
          "Canada",
          "People's Republic of China",
          "People's Republic of China",
          "People's Republic of China",
          "Chinese Taipei",
          "Chinese Taipei",
          "Chinese Taipei",
          "Colombia",
          "Egypt",
          "France",
          "France",
          "Germany",
          "Germany",
          "Great Britain",
          "Great Britain",
          "Great Britain",
          "India",
          "India",
          "Indonesia",
          "Indonesia",
          "Italy",
          "Italy",
          "Japan",
          "Japan",
          "Japan",
          "Kazakhstan",
          "Malaysia",
          "Mexico",
          "Mexico",
          "Mongolia",
          "Netherlands",
          "Netherlands",
          "Poland",
          "Republic of Moldova",
          "Republic of Korea",
          "Republic of Korea",
          "Republic of Korea",
          "ROC",
          "ROC",
          "Spain",
          "Tunisia",
          "Turkey",
          "Ukraine",
          "Ukraine",
          "United States of America",
          "United States of America",
          "United States of America",
          "Vietnam",
          "Belgium",
          "Brazil",
          "Canada",
          "People's Republic of China",
          "People's Republic of China",
          "Chinese Taipei",
          "France",
          "Germany",
          "Germany",
          "Great Britain",
          "Great Britain",
          "Italy",
          "Japan",
          "Japan",
          "Netherlands",
          "Republic of Korea",
          "ROC",
          "ROC",
          "Spain",
          "Spain",
          "Switzerland",
          "Ukraine",
          "United States of America",
          "United States of America",
          "Australia",
          "Australia",
          "Austria",
          "Belarus",
          "Canada",
          "Canada",
          "People's Republic of China",
          "People's Republic of China",
          "Colombia",
          "Egypt",
          "Egypt",
          "France",
          "Great Britain",
          "Greece",
          "Greece",
          "Israel",
          "Italy",
          "Italy",
          "Japan",
          "Japan",
          "Kazakhstan",
          "Liechtenstein",
          "Mexico",
          "Netherlands",
          "ROC",
          "ROC",
          "South Africa",
          "Spain",
          "Spain",
          "Ukraine",
          "Ukraine",
          "United States of America",
          "Australia",
          "Bahamas",
          "Belarus",
          "Belgium",
          "Belgium",
          "Belgium",
          "Botswana",
          "Brazil",
          "Brazil",
          "Brazil",
          "Canada",
          "Canada",
          "People's Republic of China",
          "People's Republic of China",
          "Colombia",
          "Cuba",
          "Czech Republic",
          "Denmark",
          "Denmark",
          "Dominican Republic",
          "Ecuador",
          "France",
          "France",
          "France",
          "France",
          "Germany",
          "Germany",
          "Germany",
          "Germany",
          "Germany",
          "Ghana",
          "Great Britain",
          "Great Britain",
          "Great Britain",
          "Great Britain",
          "Great Britain",
          "India",
          "India",
          "Ireland",
          "Italy",
          "Italy",
          "Italy",
          "Italy",
          "Italy",
          "Jamaica",
          "Jamaica",
          "Jamaica",
          "Jamaica",
          "Jamaica",
          "Japan",
          "Japan",
          "Japan",
          "Netherlands",
          "Netherlands",
          "Netherlands",
          "Netherlands",
          "Netherlands",
          "Nigeria",
          "Nigeria",
          "Poland",
          "Poland",
          "Poland",
          "Poland",
          "South Africa",
          "South Africa",
          "Spain",
          "Switzerland",
          "Switzerland",
          "Trinidad and Tobago",
          "Trinidad and Tobago",
          "Trinidad and Tobago",
          "Turkey",
          "Ukraine",
          "Ukraine",
          "United States of America",
          "United States of America",
          "United States of America",
          "United States of America",
          "United States of America",
          "Australia",
          "Canada",
          "Dominican Republic",
          "Israel",
          "Italy",
          "Japan",
          "Japan",
          "Mexico",
          "Mexico",
          "Republic of Korea",
          "United States of America",
          "United States of America",
          "Argentina",
          "Australia",
          "Australia",
          "Belgium",
          "Canada",
          "People's Republic of China",
          "Czech Republic",
          "France",
          "France",
          "Germany",
          "Islamic Republic of Iran",
          "Italy",
          "Japan",
          "Japan",
          "Nigeria",
          "Nigeria",
          "Puerto Rico",
          "Republic of Korea",
          "Serbia",
          "Slovenia",
          "Spain",
          "Spain",
          "United States of America",
          "United States of America",
          "Argentina",
          "Argentina",
          "Australia",
          "Australia",
          "Brazil",
          "Brazil",
          "Brazil",
          "Brazil",
          "Canada",
          "Canada",
          "Chile",
          "People's Republic of China",
          "People's Republic of China",
          "Cuba",
          "Czech Republic",
          "Czech Republic",
          "Germany",
          "Germany",
          "Germany",
          "Italy",
          "Italy",
          "Italy",
          "Japan",
          "Japan",
          "Kenya",
          "Latvia",
          "Latvia",
          "Mexico",
          "Morocco",
          "Netherlands",
          "Netherlands",
          "Netherlands",
          "Norway",
          "Poland",
          "Poland",
          "Qatar",
          "ROC",
          "ROC",
          "ROC",
          "Spain",
          "Spain",
          "Switzerland",
          "Switzerland",
          "Switzerland",
          "United States of America",
          "United States of America",
          "United States of America",
          "United States of America",
          "Australia",
          "Australia",
          "Australia",
          "Australia",
          "Australia",
          "Austria",
          "Belgium",
          "Belgium",
          "Canada",
          "Canada",
          "Canada",
          "Canada",
          "People's Republic of China",
          "Denmark",
          "Denmark",
          "Denmark",
          "France",
          "France",
          "France",
          "France",
          "Germany",
          "Germany",
          "Germany",
          "Germany",
          "Germany",
          "Germany",
          "Great Britain",
          "Great Britain",
          "Great Britain",
          "Great Britain",
          "Great Britain",
          "Hong Kong, China",
          "Ireland",
          "Ireland",
          "Italy",
          "Italy",
          "Italy",
          "Italy",
          "Japan",
          "Lithuania",
          "Mexico",
          "Netherlands",
          "Netherlands",
          "Netherlands",
          "Netherlands",
          "New Zealand",
          "New Zealand",
          "New Zealand",
          "New Zealand",
          "New Zealand",
          "Poland",
          "Poland",
          "Poland",
          "Poland",
          "ROC",
          "ROC",
          "ROC",
          "Spain",
          "Switzerland",
          "Switzerland",
          "Ukraine",
          "United States of America",
          "United States of America",
          "United States of America",
          "Canada",
          "Canada",
          "People's Republic of China",
          "People's Republic of China",
          "People's Republic of China",
          "Egypt",
          "Egypt",
          "Egypt",
          "Estonia",
          "France",
          "France",
          "France",
          "France",
          "Germany",
          "Germany",
          "Hong Kong, China",
          "Hong Kong, China",
          "Hungary",
          "Hungary",
          "Hungary",
          "Islamic Republic of Iran",
          "Italy",
          "Italy",
          "Italy",
          "Italy",
          "Italy",
          "Italy",
          "Japan",
          "Japan",
          "Japan",
          "Japan",
          "Japan",
          "Poland",
          "Republic of Korea",
          "Republic of Korea",
          "Republic of Korea",
          "Republic of Korea",
          "ROC",
          "ROC",
          "ROC",
          "ROC",
          "ROC",
          "ROC",
          "Switzerland",
          "Tunisia",
          "Ukraine",
          "United States of America",
          "United States of America",
          "United States of America",
          "United States of America",
          "United States of America",
          "United States of America",
          "Argentina",
          "Australia",
          "Australia",
          "Brazil",
          "Brazil",
          "Canada",
          "Chile",
          "People's Republic of China",
          "Côte d'Ivoire",
          "Egypt",
          "France",
          "Germany",
          "Great Britain",
          "Honduras",
          "Japan",
          "Japan",
          "Mexico",
          "Netherlands",
          "New Zealand",
          "New Zealand",
          "Republic of Korea",
          "Romania",
          "Saudi Arabia",
          "South Africa",
          "Spain",
          "Sweden",
          "United States of America",
          "Zambia",
          "Angola",
          "Argentina",
          "Bahrain",
          "Brazil",
          "Brazil",
          "Denmark",
          "Egypt",
          "France",
          "France",
          "Germany",
          "Hungary",
          "Japan",
          "Japan",
          "Montenegro",
          "Netherlands",
          "Norway",
          "Norway",
          "Portugal",
          "Republic of Korea",
          "ROC",
          "Spain",
          "Spain",
          "Sweden",
          "Sweden",
          "Argentina",
          "Argentina",
          "Australia",
          "Australia",
          "Belgium",
          "Canada",
          "People's Republic of China",
          "Germany",
          "Germany",
          "Great Britain",
          "Great Britain",
          "India",
          "India",
          "Ireland",
          "Japan",
          "Japan",
          "Netherlands",
          "Netherlands",
          "New Zealand",
          "New Zealand",
          "South Africa",
          "South Africa",
          "Spain",
          "Spain",
          "Australia",
          "Azerbaijan",
          "Belarus",
          "Brazil",
          "Bulgaria",
          "People's Republic of China",
          "Egypt",
          "Israel",
          "Italy",
          "Japan",
          "ROC",
          "Ukraine",
          "United States of America",
          "Uzbekistan",
          "Argentina",
          "Australia",
          "Australia",
          "Brazil",
          "Canada",
          "Canada",
          "People's Republic of China",
          "Fiji",
          "Fiji",
          "France",
          "Great Britain",
          "Great Britain",
          "Ireland",
          "Japan",
          "Japan",
          "Kenya",
          "Kenya",
          "New Zealand",
          "New Zealand",
          "Republic of Korea",
          "ROC",
          "South Africa",
          "United States of America",
          "United States of America",
          "Australia",
          "Australia",
          "Australia",
          "Australia",
          "Australia",
          "Australia",
          "Australia",
          "Belarus",
          "Belarus",
          "Belarus",
          "Brazil",
          "Brazil",
          "Brazil",
          "Brazil",
          "Brazil",
          "Brazil",
          "Canada",
          "Canada",
          "Canada",
          "Canada",
          "Canada",
          "Canada",
          "People's Republic of China",
          "People's Republic of China",
          "People's Republic of China",
          "People's Republic of China",
          "People's Republic of China",
          "People's Republic of China",
          "Czech Republic",
          "Denmark",
          "Denmark",
          "France",
          "France",
          "France",
          "France",
          "France",
          "Germany",
          "Germany",
          "Germany",
          "Germany",
          "Germany",
          "Germany",
          "Germany",
          "Great Britain",
          "Great Britain",
          "Great Britain",
          "Great Britain",
          "Great Britain",
          "Great Britain",
          "Greece",
          "Greece",
          "Greece",
          "Hong Kong, China",
          "Hong Kong, China",
          "Hong Kong, China",
          "Hungary",
          "Hungary",
          "Hungary",
          "Hungary",
          "Hungary",
          "Ireland",
          "Israel",
          "Israel",
          "Italy",
          "Italy",
          "Italy",
          "Italy",
          "Italy",
          "Italy",
          "Japan",
          "Japan",
          "Japan",
          "Japan",
          "Japan",
          "Japan",
          "Japan",
          "Lithuania",
          "Netherlands",
          "Netherlands",
          "Netherlands",
          "Netherlands",
          "New Zealand",
          "Poland",
          "Poland",
          "Poland",
          "Poland",
          "Poland",
          "Poland",
          "Republic of Korea",
          "Republic of Korea",
          "ROC",
          "ROC",
          "ROC",
          "ROC",
          "ROC",
          "ROC",
          "ROC",
          "Serbia",
          "South Africa",
          "South Africa",
          "Spain",
          "Sweden",
          "Sweden",
          "Switzerland",
          "Switzerland",
          "Turkey",
          "United States of America",
          "United States of America",
          "United States of America",
          "United States of America",
          "United States of America",
          "United States of America",
          "United States of America",
          "Australia",
          "Australia",
          "Australia",
          "Austria",
          "Austria",
          "Brazil",
          "Brazil",
          "Canada",
          "People's Republic of China",
          "People's Republic of China",
          "People's Republic of China",
          "Chinese Taipei",
          "Chinese Taipei",
          "Chinese Taipei",
          "Croatia",
          "Cuba",
          "Egypt",
          "Egypt",
          "Egypt",
          "France",
          "France",
          "France",
          "Germany",
          "Germany",
          "Germany",
          "Hong Kong, China",
          "Hong Kong, China",
          "Hong Kong, China",
          "Hungary",
          "Hungary",
          "India",
          "Japan",
          "Japan",
          "Japan",
          "Poland",
          "Portugal",
          "Republic of Korea",
          "Republic of Korea",
          "Republic of Korea",
          "Romania",
          "Romania",
          "Serbia",
          "Singapore",
          "Slovakia",
          "Slovenia",
          "Sweden",
          "United States of America",
          "United States of America",
          "Australia",
          "Austria",
          "Belgium",
          "Canada",
          "France",
          "Germany",
          "Great Britain",
          "Hungary",
          "Italy",
          "Japan",
          "Mexico",
          "Netherlands",
          "New Zealand",
          "ROC",
          "South Africa",
          "Spain",
          "Switzerland",
          "United States of America",
          "Argentina",
          "Argentina",
          "Brazil",
          "Brazil",
          "Canada",
          "People's Republic of China",
          "Dominican Republic",
          "France",
          "Islamic Republic of Iran",
          "Italy",
          "Italy",
          "Japan",
          "Japan",
          "Kenya",
          "Poland",
          "Republic of Korea",
          "ROC",
          "ROC",
          "Serbia",
          "Tunisia",
          "Turkey",
          "United States of America",
          "United States of America",
          "Venezuela",
          "Australia",
          "Australia",
          "Canada",
          "People's Republic of China",
          "Croatia",
          "Greece",
          "Hungary",
          "Hungary",
          "Italy",
          "Japan",
          "Japan",
          "Kazakhstan",
          "Montenegro",
          "Netherlands",
          "ROC",
          "Serbia",
          "South Africa",
          "South Africa",
          "Spain",
          "Spain",
          "United States of America",
          "United States of America"
         ],
         "yaxis": "y"
        }
       ],
       "layout": {
        "barmode": "relative",
        "height": 600,
        "legend": {
         "tracegroupgap": 0
        },
        "margin": {
         "t": 60
        },
        "template": {
         "data": {
          "bar": [
           {
            "error_x": {
             "color": "#2a3f5f"
            },
            "error_y": {
             "color": "#2a3f5f"
            },
            "marker": {
             "line": {
              "color": "#E5ECF6",
              "width": 0.5
             }
            },
            "type": "bar"
           }
          ],
          "barpolar": [
           {
            "marker": {
             "line": {
              "color": "#E5ECF6",
              "width": 0.5
             }
            },
            "type": "barpolar"
           }
          ],
          "carpet": [
           {
            "aaxis": {
             "endlinecolor": "#2a3f5f",
             "gridcolor": "white",
             "linecolor": "white",
             "minorgridcolor": "white",
             "startlinecolor": "#2a3f5f"
            },
            "baxis": {
             "endlinecolor": "#2a3f5f",
             "gridcolor": "white",
             "linecolor": "white",
             "minorgridcolor": "white",
             "startlinecolor": "#2a3f5f"
            },
            "type": "carpet"
           }
          ],
          "choropleth": [
           {
            "colorbar": {
             "outlinewidth": 0,
             "ticks": ""
            },
            "type": "choropleth"
           }
          ],
          "contour": [
           {
            "colorbar": {
             "outlinewidth": 0,
             "ticks": ""
            },
            "colorscale": [
             [
              0,
              "#0d0887"
             ],
             [
              0.1111111111111111,
              "#46039f"
             ],
             [
              0.2222222222222222,
              "#7201a8"
             ],
             [
              0.3333333333333333,
              "#9c179e"
             ],
             [
              0.4444444444444444,
              "#bd3786"
             ],
             [
              0.5555555555555556,
              "#d8576b"
             ],
             [
              0.6666666666666666,
              "#ed7953"
             ],
             [
              0.7777777777777778,
              "#fb9f3a"
             ],
             [
              0.8888888888888888,
              "#fdca26"
             ],
             [
              1,
              "#f0f921"
             ]
            ],
            "type": "contour"
           }
          ],
          "contourcarpet": [
           {
            "colorbar": {
             "outlinewidth": 0,
             "ticks": ""
            },
            "type": "contourcarpet"
           }
          ],
          "heatmap": [
           {
            "colorbar": {
             "outlinewidth": 0,
             "ticks": ""
            },
            "colorscale": [
             [
              0,
              "#0d0887"
             ],
             [
              0.1111111111111111,
              "#46039f"
             ],
             [
              0.2222222222222222,
              "#7201a8"
             ],
             [
              0.3333333333333333,
              "#9c179e"
             ],
             [
              0.4444444444444444,
              "#bd3786"
             ],
             [
              0.5555555555555556,
              "#d8576b"
             ],
             [
              0.6666666666666666,
              "#ed7953"
             ],
             [
              0.7777777777777778,
              "#fb9f3a"
             ],
             [
              0.8888888888888888,
              "#fdca26"
             ],
             [
              1,
              "#f0f921"
             ]
            ],
            "type": "heatmap"
           }
          ],
          "heatmapgl": [
           {
            "colorbar": {
             "outlinewidth": 0,
             "ticks": ""
            },
            "colorscale": [
             [
              0,
              "#0d0887"
             ],
             [
              0.1111111111111111,
              "#46039f"
             ],
             [
              0.2222222222222222,
              "#7201a8"
             ],
             [
              0.3333333333333333,
              "#9c179e"
             ],
             [
              0.4444444444444444,
              "#bd3786"
             ],
             [
              0.5555555555555556,
              "#d8576b"
             ],
             [
              0.6666666666666666,
              "#ed7953"
             ],
             [
              0.7777777777777778,
              "#fb9f3a"
             ],
             [
              0.8888888888888888,
              "#fdca26"
             ],
             [
              1,
              "#f0f921"
             ]
            ],
            "type": "heatmapgl"
           }
          ],
          "histogram": [
           {
            "marker": {
             "colorbar": {
              "outlinewidth": 0,
              "ticks": ""
             }
            },
            "type": "histogram"
           }
          ],
          "histogram2d": [
           {
            "colorbar": {
             "outlinewidth": 0,
             "ticks": ""
            },
            "colorscale": [
             [
              0,
              "#0d0887"
             ],
             [
              0.1111111111111111,
              "#46039f"
             ],
             [
              0.2222222222222222,
              "#7201a8"
             ],
             [
              0.3333333333333333,
              "#9c179e"
             ],
             [
              0.4444444444444444,
              "#bd3786"
             ],
             [
              0.5555555555555556,
              "#d8576b"
             ],
             [
              0.6666666666666666,
              "#ed7953"
             ],
             [
              0.7777777777777778,
              "#fb9f3a"
             ],
             [
              0.8888888888888888,
              "#fdca26"
             ],
             [
              1,
              "#f0f921"
             ]
            ],
            "type": "histogram2d"
           }
          ],
          "histogram2dcontour": [
           {
            "colorbar": {
             "outlinewidth": 0,
             "ticks": ""
            },
            "colorscale": [
             [
              0,
              "#0d0887"
             ],
             [
              0.1111111111111111,
              "#46039f"
             ],
             [
              0.2222222222222222,
              "#7201a8"
             ],
             [
              0.3333333333333333,
              "#9c179e"
             ],
             [
              0.4444444444444444,
              "#bd3786"
             ],
             [
              0.5555555555555556,
              "#d8576b"
             ],
             [
              0.6666666666666666,
              "#ed7953"
             ],
             [
              0.7777777777777778,
              "#fb9f3a"
             ],
             [
              0.8888888888888888,
              "#fdca26"
             ],
             [
              1,
              "#f0f921"
             ]
            ],
            "type": "histogram2dcontour"
           }
          ],
          "mesh3d": [
           {
            "colorbar": {
             "outlinewidth": 0,
             "ticks": ""
            },
            "type": "mesh3d"
           }
          ],
          "parcoords": [
           {
            "line": {
             "colorbar": {
              "outlinewidth": 0,
              "ticks": ""
             }
            },
            "type": "parcoords"
           }
          ],
          "scatter": [
           {
            "marker": {
             "colorbar": {
              "outlinewidth": 0,
              "ticks": ""
             }
            },
            "type": "scatter"
           }
          ],
          "scatter3d": [
           {
            "line": {
             "colorbar": {
              "outlinewidth": 0,
              "ticks": ""
             }
            },
            "marker": {
             "colorbar": {
              "outlinewidth": 0,
              "ticks": ""
             }
            },
            "type": "scatter3d"
           }
          ],
          "scattercarpet": [
           {
            "marker": {
             "colorbar": {
              "outlinewidth": 0,
              "ticks": ""
             }
            },
            "type": "scattercarpet"
           }
          ],
          "scattergeo": [
           {
            "marker": {
             "colorbar": {
              "outlinewidth": 0,
              "ticks": ""
             }
            },
            "type": "scattergeo"
           }
          ],
          "scattergl": [
           {
            "marker": {
             "colorbar": {
              "outlinewidth": 0,
              "ticks": ""
             }
            },
            "type": "scattergl"
           }
          ],
          "scattermapbox": [
           {
            "marker": {
             "colorbar": {
              "outlinewidth": 0,
              "ticks": ""
             }
            },
            "type": "scattermapbox"
           }
          ],
          "scatterpolar": [
           {
            "marker": {
             "colorbar": {
              "outlinewidth": 0,
              "ticks": ""
             }
            },
            "type": "scatterpolar"
           }
          ],
          "scatterpolargl": [
           {
            "marker": {
             "colorbar": {
              "outlinewidth": 0,
              "ticks": ""
             }
            },
            "type": "scatterpolargl"
           }
          ],
          "scatterternary": [
           {
            "marker": {
             "colorbar": {
              "outlinewidth": 0,
              "ticks": ""
             }
            },
            "type": "scatterternary"
           }
          ],
          "surface": [
           {
            "colorbar": {
             "outlinewidth": 0,
             "ticks": ""
            },
            "colorscale": [
             [
              0,
              "#0d0887"
             ],
             [
              0.1111111111111111,
              "#46039f"
             ],
             [
              0.2222222222222222,
              "#7201a8"
             ],
             [
              0.3333333333333333,
              "#9c179e"
             ],
             [
              0.4444444444444444,
              "#bd3786"
             ],
             [
              0.5555555555555556,
              "#d8576b"
             ],
             [
              0.6666666666666666,
              "#ed7953"
             ],
             [
              0.7777777777777778,
              "#fb9f3a"
             ],
             [
              0.8888888888888888,
              "#fdca26"
             ],
             [
              1,
              "#f0f921"
             ]
            ],
            "type": "surface"
           }
          ],
          "table": [
           {
            "cells": {
             "fill": {
              "color": "#EBF0F8"
             },
             "line": {
              "color": "white"
             }
            },
            "header": {
             "fill": {
              "color": "#C8D4E3"
             },
             "line": {
              "color": "white"
             }
            },
            "type": "table"
           }
          ]
         },
         "layout": {
          "annotationdefaults": {
           "arrowcolor": "#2a3f5f",
           "arrowhead": 0,
           "arrowwidth": 1
          },
          "colorscale": {
           "diverging": [
            [
             0,
             "#8e0152"
            ],
            [
             0.1,
             "#c51b7d"
            ],
            [
             0.2,
             "#de77ae"
            ],
            [
             0.3,
             "#f1b6da"
            ],
            [
             0.4,
             "#fde0ef"
            ],
            [
             0.5,
             "#f7f7f7"
            ],
            [
             0.6,
             "#e6f5d0"
            ],
            [
             0.7,
             "#b8e186"
            ],
            [
             0.8,
             "#7fbc41"
            ],
            [
             0.9,
             "#4d9221"
            ],
            [
             1,
             "#276419"
            ]
           ],
           "sequential": [
            [
             0,
             "#0d0887"
            ],
            [
             0.1111111111111111,
             "#46039f"
            ],
            [
             0.2222222222222222,
             "#7201a8"
            ],
            [
             0.3333333333333333,
             "#9c179e"
            ],
            [
             0.4444444444444444,
             "#bd3786"
            ],
            [
             0.5555555555555556,
             "#d8576b"
            ],
            [
             0.6666666666666666,
             "#ed7953"
            ],
            [
             0.7777777777777778,
             "#fb9f3a"
            ],
            [
             0.8888888888888888,
             "#fdca26"
            ],
            [
             1,
             "#f0f921"
            ]
           ],
           "sequentialminus": [
            [
             0,
             "#0d0887"
            ],
            [
             0.1111111111111111,
             "#46039f"
            ],
            [
             0.2222222222222222,
             "#7201a8"
            ],
            [
             0.3333333333333333,
             "#9c179e"
            ],
            [
             0.4444444444444444,
             "#bd3786"
            ],
            [
             0.5555555555555556,
             "#d8576b"
            ],
            [
             0.6666666666666666,
             "#ed7953"
            ],
            [
             0.7777777777777778,
             "#fb9f3a"
            ],
            [
             0.8888888888888888,
             "#fdca26"
            ],
            [
             1,
             "#f0f921"
            ]
           ]
          },
          "colorway": [
           "#636efa",
           "#EF553B",
           "#00cc96",
           "#ab63fa",
           "#FFA15A",
           "#19d3f3",
           "#FF6692",
           "#B6E880",
           "#FF97FF",
           "#FECB52"
          ],
          "font": {
           "color": "#2a3f5f"
          },
          "geo": {
           "bgcolor": "white",
           "lakecolor": "white",
           "landcolor": "#E5ECF6",
           "showlakes": true,
           "showland": true,
           "subunitcolor": "white"
          },
          "hoverlabel": {
           "align": "left"
          },
          "hovermode": "closest",
          "mapbox": {
           "style": "light"
          },
          "paper_bgcolor": "white",
          "plot_bgcolor": "#E5ECF6",
          "polar": {
           "angularaxis": {
            "gridcolor": "white",
            "linecolor": "white",
            "ticks": ""
           },
           "bgcolor": "#E5ECF6",
           "radialaxis": {
            "gridcolor": "white",
            "linecolor": "white",
            "ticks": ""
           }
          },
          "scene": {
           "xaxis": {
            "backgroundcolor": "#E5ECF6",
            "gridcolor": "white",
            "gridwidth": 2,
            "linecolor": "white",
            "showbackground": true,
            "ticks": "",
            "zerolinecolor": "white"
           },
           "yaxis": {
            "backgroundcolor": "#E5ECF6",
            "gridcolor": "white",
            "gridwidth": 2,
            "linecolor": "white",
            "showbackground": true,
            "ticks": "",
            "zerolinecolor": "white"
           },
           "zaxis": {
            "backgroundcolor": "#E5ECF6",
            "gridcolor": "white",
            "gridwidth": 2,
            "linecolor": "white",
            "showbackground": true,
            "ticks": "",
            "zerolinecolor": "white"
           }
          },
          "shapedefaults": {
           "line": {
            "color": "#2a3f5f"
           }
          },
          "ternary": {
           "aaxis": {
            "gridcolor": "white",
            "linecolor": "white",
            "ticks": ""
           },
           "baxis": {
            "gridcolor": "white",
            "linecolor": "white",
            "ticks": ""
           },
           "bgcolor": "#E5ECF6",
           "caxis": {
            "gridcolor": "white",
            "linecolor": "white",
            "ticks": ""
           }
          },
          "title": {
           "x": 0.05
          },
          "xaxis": {
           "automargin": true,
           "gridcolor": "white",
           "linecolor": "white",
           "ticks": "",
           "zerolinecolor": "white",
           "zerolinewidth": 2
          },
          "yaxis": {
           "automargin": true,
           "gridcolor": "white",
           "linecolor": "white",
           "ticks": "",
           "zerolinecolor": "white",
           "zerolinewidth": 2
          }
         }
        },
        "xaxis": {
         "anchor": "y",
         "domain": [
          0,
          0.98
         ],
         "title": {
          "text": "Discipline"
         }
        },
        "yaxis": {
         "anchor": "x",
         "domain": [
          0,
          1
         ],
         "title": {
          "text": "NOC"
         }
        }
       }
      },
      "text/html": [
       "<div>\n",
       "        \n",
       "        \n",
       "            <div id=\"b9871f62-1793-4685-8276-b7ea56bb77c1\" class=\"plotly-graph-div\" style=\"height:600px; width:100%;\"></div>\n",
       "            <script type=\"text/javascript\">\n",
       "                require([\"plotly\"], function(Plotly) {\n",
       "                    window.PLOTLYENV=window.PLOTLYENV || {};\n",
       "                    \n",
       "                if (document.getElementById(\"b9871f62-1793-4685-8276-b7ea56bb77c1\")) {\n",
       "                    Plotly.newPlot(\n",
       "                        'b9871f62-1793-4685-8276-b7ea56bb77c1',\n",
       "                        [{\"alignmentgroup\": \"True\", \"hoverlabel\": {\"namelength\": 0}, \"hovertemplate\": \"Discipline=%{x}<br>NOC=%{y}\", \"legendgroup\": \"\", \"marker\": {\"color\": \"#636efa\"}, \"name\": \"\", \"offsetgroup\": \"\", \"orientation\": \"v\", \"showlegend\": false, \"textposition\": \"auto\", \"type\": \"bar\", \"x\": [\"3x3 Basketball\", \"3x3 Basketball\", \"3x3 Basketball\", \"3x3 Basketball\", \"3x3 Basketball\", \"3x3 Basketball\", \"3x3 Basketball\", \"3x3 Basketball\", \"3x3 Basketball\", \"3x3 Basketball\", \"3x3 Basketball\", \"3x3 Basketball\", \"3x3 Basketball\", \"3x3 Basketball\", \"3x3 Basketball\", \"3x3 Basketball\", \"Archery\", \"Archery\", \"Archery\", \"Archery\", \"Archery\", \"Archery\", \"Archery\", \"Archery\", \"Archery\", \"Archery\", \"Archery\", \"Archery\", \"Archery\", \"Archery\", \"Archery\", \"Archery\", \"Archery\", \"Archery\", \"Archery\", \"Archery\", \"Archery\", \"Archery\", \"Archery\", \"Archery\", \"Archery\", \"Archery\", \"Archery\", \"Archery\", \"Archery\", \"Archery\", \"Archery\", \"Archery\", \"Archery\", \"Archery\", \"Archery\", \"Archery\", \"Archery\", \"Archery\", \"Archery\", \"Archery\", \"Archery\", \"Archery\", \"Archery\", \"Archery\", \"Archery\", \"Archery\", \"Archery\", \"Archery\", \"Archery\", \"Archery\", \"Archery\", \"Archery\", \"Archery\", \"Artistic Gymnastics\", \"Artistic Gymnastics\", \"Artistic Gymnastics\", \"Artistic Gymnastics\", \"Artistic Gymnastics\", \"Artistic Gymnastics\", \"Artistic Gymnastics\", \"Artistic Gymnastics\", \"Artistic Gymnastics\", \"Artistic Gymnastics\", \"Artistic Gymnastics\", \"Artistic Gymnastics\", \"Artistic Gymnastics\", \"Artistic Gymnastics\", \"Artistic Gymnastics\", \"Artistic Gymnastics\", \"Artistic Gymnastics\", \"Artistic Gymnastics\", \"Artistic Gymnastics\", \"Artistic Gymnastics\", \"Artistic Gymnastics\", \"Artistic Gymnastics\", \"Artistic Gymnastics\", \"Artistic Gymnastics\", \"Artistic Swimming\", \"Artistic Swimming\", \"Artistic Swimming\", \"Artistic Swimming\", \"Artistic Swimming\", \"Artistic Swimming\", \"Artistic Swimming\", \"Artistic Swimming\", \"Artistic Swimming\", \"Artistic Swimming\", \"Artistic Swimming\", \"Artistic Swimming\", \"Artistic Swimming\", \"Artistic Swimming\", \"Artistic Swimming\", \"Artistic Swimming\", \"Artistic Swimming\", \"Artistic Swimming\", \"Artistic Swimming\", \"Artistic Swimming\", \"Artistic Swimming\", \"Artistic Swimming\", \"Artistic Swimming\", \"Artistic Swimming\", \"Artistic Swimming\", \"Artistic Swimming\", \"Artistic Swimming\", \"Artistic Swimming\", \"Artistic Swimming\", \"Artistic Swimming\", \"Artistic Swimming\", \"Artistic Swimming\", \"Athletics\", \"Athletics\", \"Athletics\", \"Athletics\", \"Athletics\", \"Athletics\", \"Athletics\", \"Athletics\", \"Athletics\", \"Athletics\", \"Athletics\", \"Athletics\", \"Athletics\", \"Athletics\", \"Athletics\", \"Athletics\", \"Athletics\", \"Athletics\", \"Athletics\", \"Athletics\", \"Athletics\", \"Athletics\", \"Athletics\", \"Athletics\", \"Athletics\", \"Athletics\", \"Athletics\", \"Athletics\", \"Athletics\", \"Athletics\", \"Athletics\", \"Athletics\", \"Athletics\", \"Athletics\", \"Athletics\", \"Athletics\", \"Athletics\", \"Athletics\", \"Athletics\", \"Athletics\", \"Athletics\", \"Athletics\", \"Athletics\", \"Athletics\", \"Athletics\", \"Athletics\", \"Athletics\", \"Athletics\", \"Athletics\", \"Athletics\", \"Athletics\", \"Athletics\", \"Athletics\", \"Athletics\", \"Athletics\", \"Athletics\", \"Athletics\", \"Athletics\", \"Athletics\", \"Athletics\", \"Athletics\", \"Athletics\", \"Athletics\", \"Athletics\", \"Athletics\", \"Athletics\", \"Athletics\", \"Athletics\", \"Athletics\", \"Athletics\", \"Athletics\", \"Athletics\", \"Athletics\", \"Athletics\", \"Athletics\", \"Athletics\", \"Athletics\", \"Athletics\", \"Athletics\", \"Baseball/Softball\", \"Baseball/Softball\", \"Baseball/Softball\", \"Baseball/Softball\", \"Baseball/Softball\", \"Baseball/Softball\", \"Baseball/Softball\", \"Baseball/Softball\", \"Baseball/Softball\", \"Baseball/Softball\", \"Baseball/Softball\", \"Baseball/Softball\", \"Basketball\", \"Basketball\", \"Basketball\", \"Basketball\", \"Basketball\", \"Basketball\", \"Basketball\", \"Basketball\", \"Basketball\", \"Basketball\", \"Basketball\", \"Basketball\", \"Basketball\", \"Basketball\", \"Basketball\", \"Basketball\", \"Basketball\", \"Basketball\", \"Basketball\", \"Basketball\", \"Basketball\", \"Basketball\", \"Basketball\", \"Basketball\", \"Beach Volleyball\", \"Beach Volleyball\", \"Beach Volleyball\", \"Beach Volleyball\", \"Beach Volleyball\", \"Beach Volleyball\", \"Beach Volleyball\", \"Beach Volleyball\", \"Beach Volleyball\", \"Beach Volleyball\", \"Beach Volleyball\", \"Beach Volleyball\", \"Beach Volleyball\", \"Beach Volleyball\", \"Beach Volleyball\", \"Beach Volleyball\", \"Beach Volleyball\", \"Beach Volleyball\", \"Beach Volleyball\", \"Beach Volleyball\", \"Beach Volleyball\", \"Beach Volleyball\", \"Beach Volleyball\", \"Beach Volleyball\", \"Beach Volleyball\", \"Beach Volleyball\", \"Beach Volleyball\", \"Beach Volleyball\", \"Beach Volleyball\", \"Beach Volleyball\", \"Beach Volleyball\", \"Beach Volleyball\", \"Beach Volleyball\", \"Beach Volleyball\", \"Beach Volleyball\", \"Beach Volleyball\", \"Beach Volleyball\", \"Beach Volleyball\", \"Beach Volleyball\", \"Beach Volleyball\", \"Beach Volleyball\", \"Beach Volleyball\", \"Beach Volleyball\", \"Beach Volleyball\", \"Beach Volleyball\", \"Beach Volleyball\", \"Beach Volleyball\", \"Beach Volleyball\", \"Cycling Track\", \"Cycling Track\", \"Cycling Track\", \"Cycling Track\", \"Cycling Track\", \"Cycling Track\", \"Cycling Track\", \"Cycling Track\", \"Cycling Track\", \"Cycling Track\", \"Cycling Track\", \"Cycling Track\", \"Cycling Track\", \"Cycling Track\", \"Cycling Track\", \"Cycling Track\", \"Cycling Track\", \"Cycling Track\", \"Cycling Track\", \"Cycling Track\", \"Cycling Track\", \"Cycling Track\", \"Cycling Track\", \"Cycling Track\", \"Cycling Track\", \"Cycling Track\", \"Cycling Track\", \"Cycling Track\", \"Cycling Track\", \"Cycling Track\", \"Cycling Track\", \"Cycling Track\", \"Cycling Track\", \"Cycling Track\", \"Cycling Track\", \"Cycling Track\", \"Cycling Track\", \"Cycling Track\", \"Cycling Track\", \"Cycling Track\", \"Cycling Track\", \"Cycling Track\", \"Cycling Track\", \"Cycling Track\", \"Cycling Track\", \"Cycling Track\", \"Cycling Track\", \"Cycling Track\", \"Cycling Track\", \"Cycling Track\", \"Cycling Track\", \"Cycling Track\", \"Cycling Track\", \"Cycling Track\", \"Cycling Track\", \"Cycling Track\", \"Cycling Track\", \"Cycling Track\", \"Cycling Track\", \"Cycling Track\", \"Cycling Track\", \"Cycling Track\", \"Cycling Track\", \"Cycling Track\", \"Fencing\", \"Fencing\", \"Fencing\", \"Fencing\", \"Fencing\", \"Fencing\", \"Fencing\", \"Fencing\", \"Fencing\", \"Fencing\", \"Fencing\", \"Fencing\", \"Fencing\", \"Fencing\", \"Fencing\", \"Fencing\", \"Fencing\", \"Fencing\", \"Fencing\", \"Fencing\", \"Fencing\", \"Fencing\", \"Fencing\", \"Fencing\", \"Fencing\", \"Fencing\", \"Fencing\", \"Fencing\", \"Fencing\", \"Fencing\", \"Fencing\", \"Fencing\", \"Fencing\", \"Fencing\", \"Fencing\", \"Fencing\", \"Fencing\", \"Fencing\", \"Fencing\", \"Fencing\", \"Fencing\", \"Fencing\", \"Fencing\", \"Fencing\", \"Fencing\", \"Fencing\", \"Fencing\", \"Fencing\", \"Fencing\", \"Fencing\", \"Fencing\", \"Fencing\", \"Football\", \"Football\", \"Football\", \"Football\", \"Football\", \"Football\", \"Football\", \"Football\", \"Football\", \"Football\", \"Football\", \"Football\", \"Football\", \"Football\", \"Football\", \"Football\", \"Football\", \"Football\", \"Football\", \"Football\", \"Football\", \"Football\", \"Football\", \"Football\", \"Football\", \"Football\", \"Football\", \"Football\", \"Handball\", \"Handball\", \"Handball\", \"Handball\", \"Handball\", \"Handball\", \"Handball\", \"Handball\", \"Handball\", \"Handball\", \"Handball\", \"Handball\", \"Handball\", \"Handball\", \"Handball\", \"Handball\", \"Handball\", \"Handball\", \"Handball\", \"Handball\", \"Handball\", \"Handball\", \"Handball\", \"Handball\", \"Hockey\", \"Hockey\", \"Hockey\", \"Hockey\", \"Hockey\", \"Hockey\", \"Hockey\", \"Hockey\", \"Hockey\", \"Hockey\", \"Hockey\", \"Hockey\", \"Hockey\", \"Hockey\", \"Hockey\", \"Hockey\", \"Hockey\", \"Hockey\", \"Hockey\", \"Hockey\", \"Hockey\", \"Hockey\", \"Hockey\", \"Hockey\", \"Rhythmic Gymnastics\", \"Rhythmic Gymnastics\", \"Rhythmic Gymnastics\", \"Rhythmic Gymnastics\", \"Rhythmic Gymnastics\", \"Rhythmic Gymnastics\", \"Rhythmic Gymnastics\", \"Rhythmic Gymnastics\", \"Rhythmic Gymnastics\", \"Rhythmic Gymnastics\", \"Rhythmic Gymnastics\", \"Rhythmic Gymnastics\", \"Rhythmic Gymnastics\", \"Rhythmic Gymnastics\", \"Rugby Sevens\", \"Rugby Sevens\", \"Rugby Sevens\", \"Rugby Sevens\", \"Rugby Sevens\", \"Rugby Sevens\", \"Rugby Sevens\", \"Rugby Sevens\", \"Rugby Sevens\", \"Rugby Sevens\", \"Rugby Sevens\", \"Rugby Sevens\", \"Rugby Sevens\", \"Rugby Sevens\", \"Rugby Sevens\", \"Rugby Sevens\", \"Rugby Sevens\", \"Rugby Sevens\", \"Rugby Sevens\", \"Rugby Sevens\", \"Rugby Sevens\", \"Rugby Sevens\", \"Rugby Sevens\", \"Rugby Sevens\", \"Swimming\", \"Swimming\", \"Swimming\", \"Swimming\", \"Swimming\", \"Swimming\", \"Swimming\", \"Swimming\", \"Swimming\", \"Swimming\", \"Swimming\", \"Swimming\", \"Swimming\", \"Swimming\", \"Swimming\", \"Swimming\", \"Swimming\", \"Swimming\", \"Swimming\", \"Swimming\", \"Swimming\", \"Swimming\", \"Swimming\", \"Swimming\", \"Swimming\", \"Swimming\", \"Swimming\", \"Swimming\", \"Swimming\", \"Swimming\", \"Swimming\", \"Swimming\", \"Swimming\", \"Swimming\", \"Swimming\", \"Swimming\", \"Swimming\", \"Swimming\", \"Swimming\", \"Swimming\", \"Swimming\", \"Swimming\", \"Swimming\", \"Swimming\", \"Swimming\", \"Swimming\", \"Swimming\", \"Swimming\", \"Swimming\", \"Swimming\", \"Swimming\", \"Swimming\", \"Swimming\", \"Swimming\", \"Swimming\", \"Swimming\", \"Swimming\", \"Swimming\", \"Swimming\", \"Swimming\", \"Swimming\", \"Swimming\", \"Swimming\", \"Swimming\", \"Swimming\", \"Swimming\", \"Swimming\", \"Swimming\", \"Swimming\", \"Swimming\", \"Swimming\", \"Swimming\", \"Swimming\", \"Swimming\", \"Swimming\", \"Swimming\", \"Swimming\", \"Swimming\", \"Swimming\", \"Swimming\", \"Swimming\", \"Swimming\", \"Swimming\", \"Swimming\", \"Swimming\", \"Swimming\", \"Swimming\", \"Swimming\", \"Swimming\", \"Swimming\", \"Swimming\", \"Swimming\", \"Swimming\", \"Swimming\", \"Swimming\", \"Swimming\", \"Swimming\", \"Swimming\", \"Swimming\", \"Swimming\", \"Swimming\", \"Swimming\", \"Swimming\", \"Swimming\", \"Swimming\", \"Swimming\", \"Swimming\", \"Swimming\", \"Swimming\", \"Swimming\", \"Swimming\", \"Swimming\", \"Swimming\", \"Table Tennis\", \"Table Tennis\", \"Table Tennis\", \"Table Tennis\", \"Table Tennis\", \"Table Tennis\", \"Table Tennis\", \"Table Tennis\", \"Table Tennis\", \"Table Tennis\", \"Table Tennis\", \"Table Tennis\", \"Table Tennis\", \"Table Tennis\", \"Table Tennis\", \"Table Tennis\", \"Table Tennis\", \"Table Tennis\", \"Table Tennis\", \"Table Tennis\", \"Table Tennis\", \"Table Tennis\", \"Table Tennis\", \"Table Tennis\", \"Table Tennis\", \"Table Tennis\", \"Table Tennis\", \"Table Tennis\", \"Table Tennis\", \"Table Tennis\", \"Table Tennis\", \"Table Tennis\", \"Table Tennis\", \"Table Tennis\", \"Table Tennis\", \"Table Tennis\", \"Table Tennis\", \"Table Tennis\", \"Table Tennis\", \"Table Tennis\", \"Table Tennis\", \"Table Tennis\", \"Table Tennis\", \"Table Tennis\", \"Table Tennis\", \"Table Tennis\", \"Table Tennis\", \"Table Tennis\", \"Triathlon\", \"Triathlon\", \"Triathlon\", \"Triathlon\", \"Triathlon\", \"Triathlon\", \"Triathlon\", \"Triathlon\", \"Triathlon\", \"Triathlon\", \"Triathlon\", \"Triathlon\", \"Triathlon\", \"Triathlon\", \"Triathlon\", \"Triathlon\", \"Triathlon\", \"Triathlon\", \"Volleyball\", \"Volleyball\", \"Volleyball\", \"Volleyball\", \"Volleyball\", \"Volleyball\", \"Volleyball\", \"Volleyball\", \"Volleyball\", \"Volleyball\", \"Volleyball\", \"Volleyball\", \"Volleyball\", \"Volleyball\", \"Volleyball\", \"Volleyball\", \"Volleyball\", \"Volleyball\", \"Volleyball\", \"Volleyball\", \"Volleyball\", \"Volleyball\", \"Volleyball\", \"Volleyball\", \"Water Polo\", \"Water Polo\", \"Water Polo\", \"Water Polo\", \"Water Polo\", \"Water Polo\", \"Water Polo\", \"Water Polo\", \"Water Polo\", \"Water Polo\", \"Water Polo\", \"Water Polo\", \"Water Polo\", \"Water Polo\", \"Water Polo\", \"Water Polo\", \"Water Polo\", \"Water Polo\", \"Water Polo\", \"Water Polo\", \"Water Polo\", \"Water Polo\"], \"xaxis\": \"x\", \"y\": [\"Belgium\", \"People's Republic of China\", \"People's Republic of China\", \"France\", \"Italy\", \"Japan\", \"Japan\", \"Latvia\", \"Mongolia\", \"Netherlands\", \"Poland\", \"ROC\", \"ROC\", \"Romania\", \"Serbia\", \"United States of America\", \"Australia\", \"Australia\", \"Bangladesh\", \"Belarus\", \"Brazil\", \"Canada\", \"People's Republic of China\", \"People's Republic of China\", \"People's Republic of China\", \"Chinese Taipei\", \"Chinese Taipei\", \"Chinese Taipei\", \"Colombia\", \"Egypt\", \"France\", \"France\", \"Germany\", \"Germany\", \"Great Britain\", \"Great Britain\", \"Great Britain\", \"India\", \"India\", \"Indonesia\", \"Indonesia\", \"Italy\", \"Italy\", \"Japan\", \"Japan\", \"Japan\", \"Kazakhstan\", \"Malaysia\", \"Mexico\", \"Mexico\", \"Mongolia\", \"Netherlands\", \"Netherlands\", \"Poland\", \"Republic of Moldova\", \"Republic of Korea\", \"Republic of Korea\", \"Republic of Korea\", \"ROC\", \"ROC\", \"Spain\", \"Tunisia\", \"Turkey\", \"Ukraine\", \"Ukraine\", \"United States of America\", \"United States of America\", \"United States of America\", \"Vietnam\", \"Belgium\", \"Brazil\", \"Canada\", \"People's Republic of China\", \"People's Republic of China\", \"Chinese Taipei\", \"France\", \"Germany\", \"Germany\", \"Great Britain\", \"Great Britain\", \"Italy\", \"Japan\", \"Japan\", \"Netherlands\", \"Republic of Korea\", \"ROC\", \"ROC\", \"Spain\", \"Spain\", \"Switzerland\", \"Ukraine\", \"United States of America\", \"United States of America\", \"Australia\", \"Australia\", \"Austria\", \"Belarus\", \"Canada\", \"Canada\", \"People's Republic of China\", \"People's Republic of China\", \"Colombia\", \"Egypt\", \"Egypt\", \"France\", \"Great Britain\", \"Greece\", \"Greece\", \"Israel\", \"Italy\", \"Italy\", \"Japan\", \"Japan\", \"Kazakhstan\", \"Liechtenstein\", \"Mexico\", \"Netherlands\", \"ROC\", \"ROC\", \"South Africa\", \"Spain\", \"Spain\", \"Ukraine\", \"Ukraine\", \"United States of America\", \"Australia\", \"Bahamas\", \"Belarus\", \"Belgium\", \"Belgium\", \"Belgium\", \"Botswana\", \"Brazil\", \"Brazil\", \"Brazil\", \"Canada\", \"Canada\", \"People's Republic of China\", \"People's Republic of China\", \"Colombia\", \"Cuba\", \"Czech Republic\", \"Denmark\", \"Denmark\", \"Dominican Republic\", \"Ecuador\", \"France\", \"France\", \"France\", \"France\", \"Germany\", \"Germany\", \"Germany\", \"Germany\", \"Germany\", \"Ghana\", \"Great Britain\", \"Great Britain\", \"Great Britain\", \"Great Britain\", \"Great Britain\", \"India\", \"India\", \"Ireland\", \"Italy\", \"Italy\", \"Italy\", \"Italy\", \"Italy\", \"Jamaica\", \"Jamaica\", \"Jamaica\", \"Jamaica\", \"Jamaica\", \"Japan\", \"Japan\", \"Japan\", \"Netherlands\", \"Netherlands\", \"Netherlands\", \"Netherlands\", \"Netherlands\", \"Nigeria\", \"Nigeria\", \"Poland\", \"Poland\", \"Poland\", \"Poland\", \"South Africa\", \"South Africa\", \"Spain\", \"Switzerland\", \"Switzerland\", \"Trinidad and Tobago\", \"Trinidad and Tobago\", \"Trinidad and Tobago\", \"Turkey\", \"Ukraine\", \"Ukraine\", \"United States of America\", \"United States of America\", \"United States of America\", \"United States of America\", \"United States of America\", \"Australia\", \"Canada\", \"Dominican Republic\", \"Israel\", \"Italy\", \"Japan\", \"Japan\", \"Mexico\", \"Mexico\", \"Republic of Korea\", \"United States of America\", \"United States of America\", \"Argentina\", \"Australia\", \"Australia\", \"Belgium\", \"Canada\", \"People's Republic of China\", \"Czech Republic\", \"France\", \"France\", \"Germany\", \"Islamic Republic of Iran\", \"Italy\", \"Japan\", \"Japan\", \"Nigeria\", \"Nigeria\", \"Puerto Rico\", \"Republic of Korea\", \"Serbia\", \"Slovenia\", \"Spain\", \"Spain\", \"United States of America\", \"United States of America\", \"Argentina\", \"Argentina\", \"Australia\", \"Australia\", \"Brazil\", \"Brazil\", \"Brazil\", \"Brazil\", \"Canada\", \"Canada\", \"Chile\", \"People's Republic of China\", \"People's Republic of China\", \"Cuba\", \"Czech Republic\", \"Czech Republic\", \"Germany\", \"Germany\", \"Germany\", \"Italy\", \"Italy\", \"Italy\", \"Japan\", \"Japan\", \"Kenya\", \"Latvia\", \"Latvia\", \"Mexico\", \"Morocco\", \"Netherlands\", \"Netherlands\", \"Netherlands\", \"Norway\", \"Poland\", \"Poland\", \"Qatar\", \"ROC\", \"ROC\", \"ROC\", \"Spain\", \"Spain\", \"Switzerland\", \"Switzerland\", \"Switzerland\", \"United States of America\", \"United States of America\", \"United States of America\", \"United States of America\", \"Australia\", \"Australia\", \"Australia\", \"Australia\", \"Australia\", \"Austria\", \"Belgium\", \"Belgium\", \"Canada\", \"Canada\", \"Canada\", \"Canada\", \"People's Republic of China\", \"Denmark\", \"Denmark\", \"Denmark\", \"France\", \"France\", \"France\", \"France\", \"Germany\", \"Germany\", \"Germany\", \"Germany\", \"Germany\", \"Germany\", \"Great Britain\", \"Great Britain\", \"Great Britain\", \"Great Britain\", \"Great Britain\", \"Hong Kong, China\", \"Ireland\", \"Ireland\", \"Italy\", \"Italy\", \"Italy\", \"Italy\", \"Japan\", \"Lithuania\", \"Mexico\", \"Netherlands\", \"Netherlands\", \"Netherlands\", \"Netherlands\", \"New Zealand\", \"New Zealand\", \"New Zealand\", \"New Zealand\", \"New Zealand\", \"Poland\", \"Poland\", \"Poland\", \"Poland\", \"ROC\", \"ROC\", \"ROC\", \"Spain\", \"Switzerland\", \"Switzerland\", \"Ukraine\", \"United States of America\", \"United States of America\", \"United States of America\", \"Canada\", \"Canada\", \"People's Republic of China\", \"People's Republic of China\", \"People's Republic of China\", \"Egypt\", \"Egypt\", \"Egypt\", \"Estonia\", \"France\", \"France\", \"France\", \"France\", \"Germany\", \"Germany\", \"Hong Kong, China\", \"Hong Kong, China\", \"Hungary\", \"Hungary\", \"Hungary\", \"Islamic Republic of Iran\", \"Italy\", \"Italy\", \"Italy\", \"Italy\", \"Italy\", \"Italy\", \"Japan\", \"Japan\", \"Japan\", \"Japan\", \"Japan\", \"Poland\", \"Republic of Korea\", \"Republic of Korea\", \"Republic of Korea\", \"Republic of Korea\", \"ROC\", \"ROC\", \"ROC\", \"ROC\", \"ROC\", \"ROC\", \"Switzerland\", \"Tunisia\", \"Ukraine\", \"United States of America\", \"United States of America\", \"United States of America\", \"United States of America\", \"United States of America\", \"United States of America\", \"Argentina\", \"Australia\", \"Australia\", \"Brazil\", \"Brazil\", \"Canada\", \"Chile\", \"People's Republic of China\", \"C\\u00f4te d'Ivoire\", \"Egypt\", \"France\", \"Germany\", \"Great Britain\", \"Honduras\", \"Japan\", \"Japan\", \"Mexico\", \"Netherlands\", \"New Zealand\", \"New Zealand\", \"Republic of Korea\", \"Romania\", \"Saudi Arabia\", \"South Africa\", \"Spain\", \"Sweden\", \"United States of America\", \"Zambia\", \"Angola\", \"Argentina\", \"Bahrain\", \"Brazil\", \"Brazil\", \"Denmark\", \"Egypt\", \"France\", \"France\", \"Germany\", \"Hungary\", \"Japan\", \"Japan\", \"Montenegro\", \"Netherlands\", \"Norway\", \"Norway\", \"Portugal\", \"Republic of Korea\", \"ROC\", \"Spain\", \"Spain\", \"Sweden\", \"Sweden\", \"Argentina\", \"Argentina\", \"Australia\", \"Australia\", \"Belgium\", \"Canada\", \"People's Republic of China\", \"Germany\", \"Germany\", \"Great Britain\", \"Great Britain\", \"India\", \"India\", \"Ireland\", \"Japan\", \"Japan\", \"Netherlands\", \"Netherlands\", \"New Zealand\", \"New Zealand\", \"South Africa\", \"South Africa\", \"Spain\", \"Spain\", \"Australia\", \"Azerbaijan\", \"Belarus\", \"Brazil\", \"Bulgaria\", \"People's Republic of China\", \"Egypt\", \"Israel\", \"Italy\", \"Japan\", \"ROC\", \"Ukraine\", \"United States of America\", \"Uzbekistan\", \"Argentina\", \"Australia\", \"Australia\", \"Brazil\", \"Canada\", \"Canada\", \"People's Republic of China\", \"Fiji\", \"Fiji\", \"France\", \"Great Britain\", \"Great Britain\", \"Ireland\", \"Japan\", \"Japan\", \"Kenya\", \"Kenya\", \"New Zealand\", \"New Zealand\", \"Republic of Korea\", \"ROC\", \"South Africa\", \"United States of America\", \"United States of America\", \"Australia\", \"Australia\", \"Australia\", \"Australia\", \"Australia\", \"Australia\", \"Australia\", \"Belarus\", \"Belarus\", \"Belarus\", \"Brazil\", \"Brazil\", \"Brazil\", \"Brazil\", \"Brazil\", \"Brazil\", \"Canada\", \"Canada\", \"Canada\", \"Canada\", \"Canada\", \"Canada\", \"People's Republic of China\", \"People's Republic of China\", \"People's Republic of China\", \"People's Republic of China\", \"People's Republic of China\", \"People's Republic of China\", \"Czech Republic\", \"Denmark\", \"Denmark\", \"France\", \"France\", \"France\", \"France\", \"France\", \"Germany\", \"Germany\", \"Germany\", \"Germany\", \"Germany\", \"Germany\", \"Germany\", \"Great Britain\", \"Great Britain\", \"Great Britain\", \"Great Britain\", \"Great Britain\", \"Great Britain\", \"Greece\", \"Greece\", \"Greece\", \"Hong Kong, China\", \"Hong Kong, China\", \"Hong Kong, China\", \"Hungary\", \"Hungary\", \"Hungary\", \"Hungary\", \"Hungary\", \"Ireland\", \"Israel\", \"Israel\", \"Italy\", \"Italy\", \"Italy\", \"Italy\", \"Italy\", \"Italy\", \"Japan\", \"Japan\", \"Japan\", \"Japan\", \"Japan\", \"Japan\", \"Japan\", \"Lithuania\", \"Netherlands\", \"Netherlands\", \"Netherlands\", \"Netherlands\", \"New Zealand\", \"Poland\", \"Poland\", \"Poland\", \"Poland\", \"Poland\", \"Poland\", \"Republic of Korea\", \"Republic of Korea\", \"ROC\", \"ROC\", \"ROC\", \"ROC\", \"ROC\", \"ROC\", \"ROC\", \"Serbia\", \"South Africa\", \"South Africa\", \"Spain\", \"Sweden\", \"Sweden\", \"Switzerland\", \"Switzerland\", \"Turkey\", \"United States of America\", \"United States of America\", \"United States of America\", \"United States of America\", \"United States of America\", \"United States of America\", \"United States of America\", \"Australia\", \"Australia\", \"Australia\", \"Austria\", \"Austria\", \"Brazil\", \"Brazil\", \"Canada\", \"People's Republic of China\", \"People's Republic of China\", \"People's Republic of China\", \"Chinese Taipei\", \"Chinese Taipei\", \"Chinese Taipei\", \"Croatia\", \"Cuba\", \"Egypt\", \"Egypt\", \"Egypt\", \"France\", \"France\", \"France\", \"Germany\", \"Germany\", \"Germany\", \"Hong Kong, China\", \"Hong Kong, China\", \"Hong Kong, China\", \"Hungary\", \"Hungary\", \"India\", \"Japan\", \"Japan\", \"Japan\", \"Poland\", \"Portugal\", \"Republic of Korea\", \"Republic of Korea\", \"Republic of Korea\", \"Romania\", \"Romania\", \"Serbia\", \"Singapore\", \"Slovakia\", \"Slovenia\", \"Sweden\", \"United States of America\", \"United States of America\", \"Australia\", \"Austria\", \"Belgium\", \"Canada\", \"France\", \"Germany\", \"Great Britain\", \"Hungary\", \"Italy\", \"Japan\", \"Mexico\", \"Netherlands\", \"New Zealand\", \"ROC\", \"South Africa\", \"Spain\", \"Switzerland\", \"United States of America\", \"Argentina\", \"Argentina\", \"Brazil\", \"Brazil\", \"Canada\", \"People's Republic of China\", \"Dominican Republic\", \"France\", \"Islamic Republic of Iran\", \"Italy\", \"Italy\", \"Japan\", \"Japan\", \"Kenya\", \"Poland\", \"Republic of Korea\", \"ROC\", \"ROC\", \"Serbia\", \"Tunisia\", \"Turkey\", \"United States of America\", \"United States of America\", \"Venezuela\", \"Australia\", \"Australia\", \"Canada\", \"People's Republic of China\", \"Croatia\", \"Greece\", \"Hungary\", \"Hungary\", \"Italy\", \"Japan\", \"Japan\", \"Kazakhstan\", \"Montenegro\", \"Netherlands\", \"ROC\", \"Serbia\", \"South Africa\", \"South Africa\", \"Spain\", \"Spain\", \"United States of America\", \"United States of America\"], \"yaxis\": \"y\"}],\n",
       "                        {\"barmode\": \"relative\", \"height\": 600, \"legend\": {\"tracegroupgap\": 0}, \"margin\": {\"t\": 60}, \"template\": {\"data\": {\"bar\": [{\"error_x\": {\"color\": \"#2a3f5f\"}, \"error_y\": {\"color\": \"#2a3f5f\"}, \"marker\": {\"line\": {\"color\": \"#E5ECF6\", \"width\": 0.5}}, \"type\": \"bar\"}], \"barpolar\": [{\"marker\": {\"line\": {\"color\": \"#E5ECF6\", \"width\": 0.5}}, \"type\": \"barpolar\"}], \"carpet\": [{\"aaxis\": {\"endlinecolor\": \"#2a3f5f\", \"gridcolor\": \"white\", \"linecolor\": \"white\", \"minorgridcolor\": \"white\", \"startlinecolor\": \"#2a3f5f\"}, \"baxis\": {\"endlinecolor\": \"#2a3f5f\", \"gridcolor\": \"white\", \"linecolor\": \"white\", \"minorgridcolor\": \"white\", \"startlinecolor\": \"#2a3f5f\"}, \"type\": \"carpet\"}], \"choropleth\": [{\"colorbar\": {\"outlinewidth\": 0, \"ticks\": \"\"}, \"type\": \"choropleth\"}], \"contour\": [{\"colorbar\": {\"outlinewidth\": 0, \"ticks\": \"\"}, \"colorscale\": [[0.0, \"#0d0887\"], [0.1111111111111111, \"#46039f\"], [0.2222222222222222, \"#7201a8\"], [0.3333333333333333, \"#9c179e\"], [0.4444444444444444, \"#bd3786\"], [0.5555555555555556, \"#d8576b\"], [0.6666666666666666, \"#ed7953\"], [0.7777777777777778, \"#fb9f3a\"], [0.8888888888888888, \"#fdca26\"], [1.0, \"#f0f921\"]], \"type\": \"contour\"}], \"contourcarpet\": [{\"colorbar\": {\"outlinewidth\": 0, \"ticks\": \"\"}, \"type\": \"contourcarpet\"}], \"heatmap\": [{\"colorbar\": {\"outlinewidth\": 0, \"ticks\": \"\"}, \"colorscale\": [[0.0, \"#0d0887\"], [0.1111111111111111, \"#46039f\"], [0.2222222222222222, \"#7201a8\"], [0.3333333333333333, \"#9c179e\"], [0.4444444444444444, \"#bd3786\"], [0.5555555555555556, \"#d8576b\"], [0.6666666666666666, \"#ed7953\"], [0.7777777777777778, \"#fb9f3a\"], [0.8888888888888888, \"#fdca26\"], [1.0, \"#f0f921\"]], \"type\": \"heatmap\"}], \"heatmapgl\": [{\"colorbar\": {\"outlinewidth\": 0, \"ticks\": \"\"}, \"colorscale\": [[0.0, \"#0d0887\"], [0.1111111111111111, \"#46039f\"], [0.2222222222222222, \"#7201a8\"], [0.3333333333333333, \"#9c179e\"], [0.4444444444444444, \"#bd3786\"], [0.5555555555555556, \"#d8576b\"], [0.6666666666666666, \"#ed7953\"], [0.7777777777777778, \"#fb9f3a\"], [0.8888888888888888, \"#fdca26\"], [1.0, \"#f0f921\"]], \"type\": \"heatmapgl\"}], \"histogram\": [{\"marker\": {\"colorbar\": {\"outlinewidth\": 0, \"ticks\": \"\"}}, \"type\": \"histogram\"}], \"histogram2d\": [{\"colorbar\": {\"outlinewidth\": 0, \"ticks\": \"\"}, \"colorscale\": [[0.0, \"#0d0887\"], [0.1111111111111111, \"#46039f\"], [0.2222222222222222, \"#7201a8\"], [0.3333333333333333, \"#9c179e\"], [0.4444444444444444, \"#bd3786\"], [0.5555555555555556, \"#d8576b\"], [0.6666666666666666, \"#ed7953\"], [0.7777777777777778, \"#fb9f3a\"], [0.8888888888888888, \"#fdca26\"], [1.0, \"#f0f921\"]], \"type\": \"histogram2d\"}], \"histogram2dcontour\": [{\"colorbar\": {\"outlinewidth\": 0, \"ticks\": \"\"}, \"colorscale\": [[0.0, \"#0d0887\"], [0.1111111111111111, \"#46039f\"], [0.2222222222222222, \"#7201a8\"], [0.3333333333333333, \"#9c179e\"], [0.4444444444444444, \"#bd3786\"], [0.5555555555555556, \"#d8576b\"], [0.6666666666666666, \"#ed7953\"], [0.7777777777777778, \"#fb9f3a\"], [0.8888888888888888, \"#fdca26\"], [1.0, \"#f0f921\"]], \"type\": \"histogram2dcontour\"}], \"mesh3d\": [{\"colorbar\": {\"outlinewidth\": 0, \"ticks\": \"\"}, \"type\": \"mesh3d\"}], \"parcoords\": [{\"line\": {\"colorbar\": {\"outlinewidth\": 0, \"ticks\": \"\"}}, \"type\": \"parcoords\"}], \"scatter\": [{\"marker\": {\"colorbar\": {\"outlinewidth\": 0, \"ticks\": \"\"}}, \"type\": \"scatter\"}], \"scatter3d\": [{\"line\": {\"colorbar\": {\"outlinewidth\": 0, \"ticks\": \"\"}}, \"marker\": {\"colorbar\": {\"outlinewidth\": 0, \"ticks\": \"\"}}, \"type\": \"scatter3d\"}], \"scattercarpet\": [{\"marker\": {\"colorbar\": {\"outlinewidth\": 0, \"ticks\": \"\"}}, \"type\": \"scattercarpet\"}], \"scattergeo\": [{\"marker\": {\"colorbar\": {\"outlinewidth\": 0, \"ticks\": \"\"}}, \"type\": \"scattergeo\"}], \"scattergl\": [{\"marker\": {\"colorbar\": {\"outlinewidth\": 0, \"ticks\": \"\"}}, \"type\": \"scattergl\"}], \"scattermapbox\": [{\"marker\": {\"colorbar\": {\"outlinewidth\": 0, \"ticks\": \"\"}}, \"type\": \"scattermapbox\"}], \"scatterpolar\": [{\"marker\": {\"colorbar\": {\"outlinewidth\": 0, \"ticks\": \"\"}}, \"type\": \"scatterpolar\"}], \"scatterpolargl\": [{\"marker\": {\"colorbar\": {\"outlinewidth\": 0, \"ticks\": \"\"}}, \"type\": \"scatterpolargl\"}], \"scatterternary\": [{\"marker\": {\"colorbar\": {\"outlinewidth\": 0, \"ticks\": \"\"}}, \"type\": \"scatterternary\"}], \"surface\": [{\"colorbar\": {\"outlinewidth\": 0, \"ticks\": \"\"}, \"colorscale\": [[0.0, \"#0d0887\"], [0.1111111111111111, \"#46039f\"], [0.2222222222222222, \"#7201a8\"], [0.3333333333333333, \"#9c179e\"], [0.4444444444444444, \"#bd3786\"], [0.5555555555555556, \"#d8576b\"], [0.6666666666666666, \"#ed7953\"], [0.7777777777777778, \"#fb9f3a\"], [0.8888888888888888, \"#fdca26\"], [1.0, \"#f0f921\"]], \"type\": \"surface\"}], \"table\": [{\"cells\": {\"fill\": {\"color\": \"#EBF0F8\"}, \"line\": {\"color\": \"white\"}}, \"header\": {\"fill\": {\"color\": \"#C8D4E3\"}, \"line\": {\"color\": \"white\"}}, \"type\": \"table\"}]}, \"layout\": {\"annotationdefaults\": {\"arrowcolor\": \"#2a3f5f\", \"arrowhead\": 0, \"arrowwidth\": 1}, \"colorscale\": {\"diverging\": [[0, \"#8e0152\"], [0.1, \"#c51b7d\"], [0.2, \"#de77ae\"], [0.3, \"#f1b6da\"], [0.4, \"#fde0ef\"], [0.5, \"#f7f7f7\"], [0.6, \"#e6f5d0\"], [0.7, \"#b8e186\"], [0.8, \"#7fbc41\"], [0.9, \"#4d9221\"], [1, \"#276419\"]], \"sequential\": [[0.0, \"#0d0887\"], [0.1111111111111111, \"#46039f\"], [0.2222222222222222, \"#7201a8\"], [0.3333333333333333, \"#9c179e\"], [0.4444444444444444, \"#bd3786\"], [0.5555555555555556, \"#d8576b\"], [0.6666666666666666, \"#ed7953\"], [0.7777777777777778, \"#fb9f3a\"], [0.8888888888888888, \"#fdca26\"], [1.0, \"#f0f921\"]], \"sequentialminus\": [[0.0, \"#0d0887\"], [0.1111111111111111, \"#46039f\"], [0.2222222222222222, \"#7201a8\"], [0.3333333333333333, \"#9c179e\"], [0.4444444444444444, \"#bd3786\"], [0.5555555555555556, \"#d8576b\"], [0.6666666666666666, \"#ed7953\"], [0.7777777777777778, \"#fb9f3a\"], [0.8888888888888888, \"#fdca26\"], [1.0, \"#f0f921\"]]}, \"colorway\": [\"#636efa\", \"#EF553B\", \"#00cc96\", \"#ab63fa\", \"#FFA15A\", \"#19d3f3\", \"#FF6692\", \"#B6E880\", \"#FF97FF\", \"#FECB52\"], \"font\": {\"color\": \"#2a3f5f\"}, \"geo\": {\"bgcolor\": \"white\", \"lakecolor\": \"white\", \"landcolor\": \"#E5ECF6\", \"showlakes\": true, \"showland\": true, \"subunitcolor\": \"white\"}, \"hoverlabel\": {\"align\": \"left\"}, \"hovermode\": \"closest\", \"mapbox\": {\"style\": \"light\"}, \"paper_bgcolor\": \"white\", \"plot_bgcolor\": \"#E5ECF6\", \"polar\": {\"angularaxis\": {\"gridcolor\": \"white\", \"linecolor\": \"white\", \"ticks\": \"\"}, \"bgcolor\": \"#E5ECF6\", \"radialaxis\": {\"gridcolor\": \"white\", \"linecolor\": \"white\", \"ticks\": \"\"}}, \"scene\": {\"xaxis\": {\"backgroundcolor\": \"#E5ECF6\", \"gridcolor\": \"white\", \"gridwidth\": 2, \"linecolor\": \"white\", \"showbackground\": true, \"ticks\": \"\", \"zerolinecolor\": \"white\"}, \"yaxis\": {\"backgroundcolor\": \"#E5ECF6\", \"gridcolor\": \"white\", \"gridwidth\": 2, \"linecolor\": \"white\", \"showbackground\": true, \"ticks\": \"\", \"zerolinecolor\": \"white\"}, \"zaxis\": {\"backgroundcolor\": \"#E5ECF6\", \"gridcolor\": \"white\", \"gridwidth\": 2, \"linecolor\": \"white\", \"showbackground\": true, \"ticks\": \"\", \"zerolinecolor\": \"white\"}}, \"shapedefaults\": {\"line\": {\"color\": \"#2a3f5f\"}}, \"ternary\": {\"aaxis\": {\"gridcolor\": \"white\", \"linecolor\": \"white\", \"ticks\": \"\"}, \"baxis\": {\"gridcolor\": \"white\", \"linecolor\": \"white\", \"ticks\": \"\"}, \"bgcolor\": \"#E5ECF6\", \"caxis\": {\"gridcolor\": \"white\", \"linecolor\": \"white\", \"ticks\": \"\"}}, \"title\": {\"x\": 0.05}, \"xaxis\": {\"automargin\": true, \"gridcolor\": \"white\", \"linecolor\": \"white\", \"ticks\": \"\", \"zerolinecolor\": \"white\", \"zerolinewidth\": 2}, \"yaxis\": {\"automargin\": true, \"gridcolor\": \"white\", \"linecolor\": \"white\", \"ticks\": \"\", \"zerolinecolor\": \"white\", \"zerolinewidth\": 2}}}, \"xaxis\": {\"anchor\": \"y\", \"domain\": [0.0, 0.98], \"title\": {\"text\": \"Discipline\"}}, \"yaxis\": {\"anchor\": \"x\", \"domain\": [0.0, 1.0], \"title\": {\"text\": \"NOC\"}}},\n",
       "                        {\"responsive\": true}\n",
       "                    ).then(function(){\n",
       "                            \n",
       "var gd = document.getElementById('b9871f62-1793-4685-8276-b7ea56bb77c1');\n",
       "var x = new MutationObserver(function (mutations, observer) {{\n",
       "        var display = window.getComputedStyle(gd).display;\n",
       "        if (!display || display === 'none') {{\n",
       "            console.log([gd, 'removed!']);\n",
       "            Plotly.purge(gd);\n",
       "            observer.disconnect();\n",
       "        }}\n",
       "}});\n",
       "\n",
       "// Listen for the removal of the full notebook cells\n",
       "var notebookContainer = gd.closest('#notebook-container');\n",
       "if (notebookContainer) {{\n",
       "    x.observe(notebookContainer, {childList: true});\n",
       "}}\n",
       "\n",
       "// Listen for the clearing of the current output cell\n",
       "var outputEl = gd.closest('.output');\n",
       "if (outputEl) {{\n",
       "    x.observe(outputEl, {childList: true});\n",
       "}}\n",
       "\n",
       "                        })\n",
       "                };\n",
       "                });\n",
       "            </script>\n",
       "        </div>"
      ]
     },
     "metadata": {},
     "output_type": "display_data"
    }
   ],
   "source": [
    "px.bar(df_teams, x='Discipline', y='NOC', title='')"
   ]
  },
  {
   "cell_type": "code",
   "execution_count": 19,
   "metadata": {},
   "outputs": [
    {
     "data": {
      "text/plain": [
       "<pandas.plotting._core.PlotAccessor object at 0x7f3ed46714f0>"
      ]
     },
     "execution_count": 19,
     "metadata": {},
     "output_type": "execute_result"
    }
   ],
   "source": []
  }
 ],
 "metadata": {
  "interpreter": {
   "hash": "916dbcbb3f70747c44a77c7bcd40155683ae19c65e1c03b4aa3499c5328201f1"
  },
  "kernelspec": {
   "display_name": "Python 3.8.10 64-bit",
   "name": "python3"
  },
  "language_info": {
   "codemirror_mode": {
    "name": "ipython",
    "version": 3
   },
   "file_extension": ".py",
   "mimetype": "text/x-python",
   "name": "python",
   "nbconvert_exporter": "python",
   "pygments_lexer": "ipython3",
   "version": "3.8.10"
  },
  "orig_nbformat": 4
 },
 "nbformat": 4,
 "nbformat_minor": 2
}
